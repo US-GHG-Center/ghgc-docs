{
 "cells": [
  {
   "cell_type": "markdown",
   "metadata": {
    "vscode": {
     "languageId": "raw"
    }
   },
   "source": [
    "Code used to transform [Global Mangrove Distribution, Aboveground Biomass, and Canopy Height](https://daac.ornl.gov/CMS/guides/CMS_Global_Map_Mangrove_Canopy.html) from .tif to Cloud Optimized Geotiff.\n",
    "\n",
    "-Author: Kyle Lesinger\n"
   ]
  },
  {
   "cell_type": "code",
   "execution_count": null,
   "metadata": {},
   "outputs": [
    {
     "data": {
      "text/plain": [
       "'/Users/klesinger/Library/CloudStorage/GoogleDrive-kdl0040@uah.edu/My Drive/INGEST_DOCS/coastal-zones'"
      ]
     },
     "execution_count": 1,
     "metadata": {},
     "output_type": "execute_result"
    }
   ],
   "source": [
    "import os\n",
    "import pandas as pd\n",
    "import json\n",
    "import tempfile\n",
    "import boto3\n",
    "import rasterio\n",
    "import rioxarray as rxr\n",
    "import s3fs\n",
    "from rasterio.warp import calculate_default_transform, reproject, Resampling\n",
    "import botocore\n",
    "from pathlib import Path\n"
   ]
  },
  {
   "cell_type": "code",
   "execution_count": null,
   "metadata": {},
   "outputs": [],
   "source": [
    "config = {\n",
    "    \"data_acquisition_method\": \"s3\",\n",
    "    \"raw_data_bucket\" : \"ghgc-data-store-dev\",\n",
    "    \"raw_data_prefix\": \"coastal-observatory/data\",\n",
    "    \"cog_data_bucket\": \"ghgc-data-store-dev\",\n",
    "    \"cog_data_prefix\": \"transformed_cogs/CMS_Global_Map_Mangrove_Canopy\",\n",
    "    \"transformation\": {}\n",
    "}"
   ]
  },
  {
   "cell_type": "code",
   "execution_count": null,
   "metadata": {},
   "outputs": [],
   "source": [
    "# AWS Credentials \n",
    "AWS_ACCESS_KEY_ID=''\n",
    "AWS_SECRET_ACCESS_KEY=''\n",
    "AWS_SESSION_TOKEN=''\n"
   ]
  },
  {
   "cell_type": "markdown",
   "metadata": {},
   "source": [
    "Approach\n",
    "\n",
    "1.) Read .tif files from S3 bucket\n",
    "2.) Convert to COGs on local drive\n",
    "3.) Move converted COGs to their final S3 location"
   ]
  },
  {
   "cell_type": "code",
   "execution_count": null,
   "metadata": {},
   "outputs": [],
   "source": [
    "session = boto3.session.Session(profile_name='')\n",
    "s3_client = boto3.client(\n",
    "    's3',\n",
    "    aws_access_key_id=AWS_ACCESS_KEY_ID,\n",
    "    aws_secret_access_key=AWS_SECRET_ACCESS_KEY,\n",
    "    aws_session_token = AWS_SESSION_TOKEN\n",
    "\n",
    ")\n",
    "\n",
    "raw_data_bucket = config[\"raw_data_bucket\"]\n",
    "raw_data_prefix= config[\"raw_data_prefix\"]\n",
    "\n",
    "cog_data_bucket = config['cog_data_bucket']\n",
    "cog_data_prefix= config[\"cog_data_prefix\"]\n",
    "\n",
    "fs = s3fs.S3FileSystem()"
   ]
  },
  {
   "cell_type": "code",
   "execution_count": null,
   "metadata": {},
   "outputs": [],
   "source": [
    "#Based on visual inspection of the dataset, this will be inserted into the filename\n",
    "start_str = pd.to_datetime(\"2000-01-01\").date().isoformat()\n",
    "end_str = pd.to_datetime(\"2009-12-31\").date().isoformat()\n"
   ]
  },
  {
   "cell_type": "code",
   "execution_count": null,
   "metadata": {},
   "outputs": [],
   "source": [
    "def get_all_s3_keys(bucket, model_name, ext):\n",
    "    \"\"\"Get a list of all keys in an S3 bucket.\"\"\"\n",
    "    keys = []\n",
    "\n",
    "    kwargs = {\"Bucket\": bucket, \"Prefix\": f\"{model_name}/\"}\n",
    "    while True:\n",
    "        resp = s3_client.list_objects_v2(**kwargs)\n",
    "        for obj in resp[\"Contents\"]:\n",
    "            if obj[\"Key\"].endswith(ext) and \"historical\" not in obj[\"Key\"]:\n",
    "                keys.append(obj[\"Key\"])\n",
    "\n",
    "        try:\n",
    "            kwargs[\"ContinuationToken\"] = resp[\"NextContinuationToken\"]\n",
    "        except KeyError:\n",
    "            break\n",
    "\n",
    "    return keys\n",
    "\n",
    "keys = get_all_s3_keys(raw_data_bucket, raw_data_prefix, \".tif\")\n",
    "keys"
   ]
  },
  {
   "cell_type": "code",
   "execution_count": 7,
   "metadata": {},
   "outputs": [],
   "source": [
    "def create_cog_filename(f, start_str, end_str):\n",
    "    \n",
    "    f = Path(f).stem\n",
    "    # Example: \"Mangrove_agb_AndamanAndNicobar.tif\" -> \"Mangrove_agb_AndamanAndNicobar_2000-01-01day_2009-12-31.tif\"\n",
    "    # Example: \"Mangrove_hmax95_Yemen.tif\" -> \"Mangrove_hmax95_Yemen_2000-01-01day_2009-12-31.tif\"\n",
    "    \n",
    "    # Simply append the date range to the stem\n",
    "    cog_filename = f\"{f}_{start_str}day_{end_str}.tif\"\n",
    "    return cog_filename\n",
    "    "
   ]
  },
  {
   "cell_type": "code",
   "execution_count": 8,
   "metadata": {},
   "outputs": [],
   "source": [
    "# Define COG profile for rasterio\n",
    "COG_PROFILE = {\n",
    "    \"driver\": \"COG\",\n",
    "    \"compress\": \"DEFLATE\",\n",
    "}\n"
   ]
  },
  {
   "cell_type": "code",
   "execution_count": 9,
   "metadata": {},
   "outputs": [],
   "source": [
    "def convert_to_proper_CRS_and_cogify(name, cog_filename, cog_data_bucket, cog_data_prefix):\n",
    "    s3_key = f\"{cog_data_prefix}/{cog_filename}\"\n",
    "    reproject_filename = f\"reproj/{cog_filename}\"\n",
    "    \n",
    "    # Create a temporary file for the downloaded S3 object\n",
    "    temp_input_file = f\"temp_{os.path.basename(name)}\"\n",
    "\n",
    "    # Skip everything if the COG already exists in S3\n",
    "    try:\n",
    "        s3_client.head_object(Bucket=cog_data_bucket, Key=s3_key)\n",
    "        print(f\"[SKIP] s3://{cog_data_bucket}/{s3_key} already exists\")\n",
    "        return\n",
    "    except botocore.exceptions.ClientError as e:\n",
    "        error_code = e.response[\"Error\"][\"Code\"]\n",
    "        # If it's a 404, object doesn't exist → proceed\n",
    "        # If it's 403 (Forbidden), we don't have permission to check, so proceed anyway\n",
    "        if error_code not in [\"404\", \"403\"]:\n",
    "            raise\n",
    "        # For 403, we'll try to upload anyway and let it fail if the object exists\n",
    "\n",
    "    try:\n",
    "        # Download the file from S3 first\n",
    "        print(f\"[DOWNLOAD] Downloading {name} from S3...\")\n",
    "        s3_client.download_file(raw_data_bucket, name, temp_input_file)\n",
    "        \n",
    "        # Reproject using the local file\n",
    "        print(f\"[REPROJECT] {name} → {reproject_filename} (EPSG:4326)\")\n",
    "        with rasterio.open(temp_input_file) as src:\n",
    "            dst_crs = \"EPSG:4326\"\n",
    "            transform, width, height = calculate_default_transform(\n",
    "                src.crs, dst_crs, src.width, src.height, *src.bounds\n",
    "            )\n",
    "            kwargs = src.meta.copy()\n",
    "            kwargs.update({\n",
    "                \"driver\": \"COG\",                 # write a COG instead of plain GTiff\n",
    "                \"compress\": \"DEFLATE\",           # or \"LZW\"\n",
    "                \"crs\": dst_crs,\n",
    "                \"transform\": transform,\n",
    "                \"width\": width,\n",
    "                \"height\": height\n",
    "            })\n",
    "\n",
    "            with rasterio.open(f\"{reproject_filename}\", \"w\", **kwargs) as dst:\n",
    "                reproject(\n",
    "                    source=rasterio.band(src, 1),\n",
    "                    destination=rasterio.band(dst, 1),\n",
    "                    src_transform=src.transform,\n",
    "                    src_crs=src.crs,\n",
    "                    dst_transform=transform,\n",
    "                    dst_crs=dst_crs,\n",
    "                    resampling=Resampling.nearest,\n",
    "                    wrapdateline=True\n",
    "                )\n",
    "\n",
    "        # 3) COGify & upload\n",
    "        print(f\"[COGIFY] {reproject_filename} → s3://{cog_data_bucket}/{s3_key}\")\n",
    "        ds = rxr.open_rasterio(reproject_filename)\n",
    "        ds = ds.rename({\"y\": \"lat\", \"x\": \"lon\"})\n",
    "        ds.rio.set_spatial_dims(\"lon\", \"lat\", inplace=True)\n",
    "        ds.rio.write_nodata(-9999, inplace=True)\n",
    "\n",
    "        with tempfile.NamedTemporaryFile() as tmp:\n",
    "            ds.rio.to_raster(tmp.name, **COG_PROFILE)\n",
    "            s3_client.upload_file(\n",
    "                Filename = tmp.name, \n",
    "                Bucket = cog_data_bucket, \n",
    "                Key = s3_key)\n",
    "            print(f\"[SUCCESS] Uploaded to s3://{cog_data_bucket}/{s3_key}\")\n",
    "            \n",
    "    except Exception as e:\n",
    "        print(f\"[ERROR] Failed to process {name}: {str(e)}\")\n",
    "        raise\n",
    "            \n",
    "    finally:\n",
    "        # Clean up temporary input file\n",
    "        if os.path.exists(temp_input_file):\n",
    "            os.remove(temp_input_file)\n",
    "            print(f\"[CLEANUP] removed temporary input file {temp_input_file}\")\n",
    "            \n",
    "        # Clean up local intermediate\n",
    "        if os.path.exists(reproject_filename):\n",
    "            os.remove(reproject_filename)\n",
    "            print(f\"[CLEANUP] removed intermediate {reproject_filename}\")"
   ]
  },
  {
   "cell_type": "code",
   "execution_count": null,
   "metadata": {},
   "outputs": [
    {
     "data": {
      "text/plain": [
       "'coastal-observatory/data/Mangrove_hmax95_Yemen.tif'"
      ]
     },
     "execution_count": 49,
     "metadata": {},
     "output_type": "execute_result"
    }
   ],
   "source": [
    "#Run a loop to go through all of the items within the S3 bucket\n",
    "\n",
    "os.makedirs(\"reproj\", exist_ok=True)\n",
    "for name in sorted(keys):\n",
    "    cog_filename = create_cog_filename(name, start_str, end_str)\n",
    "    print(cog_filename)\n",
    "    convert_to_proper_CRS_and_cogify(name, cog_filename, cog_data_bucket, cog_data_prefix)\n"
   ]
  }
 ],
 "metadata": {
  "kernelspec": {
   "display_name": "base",
   "language": "python",
   "name": "python3"
  },
  "language_info": {
   "codemirror_mode": {
    "name": "ipython",
    "version": 3
   },
   "file_extension": ".py",
   "mimetype": "text/x-python",
   "name": "python",
   "nbconvert_exporter": "python",
   "pygments_lexer": "ipython3",
   "version": "3.12.2"
  }
 },
 "nbformat": 4,
 "nbformat_minor": 4
}
