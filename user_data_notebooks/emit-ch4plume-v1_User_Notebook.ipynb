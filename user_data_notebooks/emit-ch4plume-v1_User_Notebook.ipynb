{
   "cells": [
      {
         "cell_type": "raw",
         "metadata": {
            "vscode": {
               "languageId": "raw"
            }
         },
         "source": [
            "---\n",
            "title: EMIT Methane Point Source Plume Complexes\n",
            "description: Daily aggregated, global point source methane emission plume estimates from the EMIT instrument on the International Space Station (ISS)\n",
            "authors: Siddharth Chaudhary, Vishal Gaur, Farnaz Bayat\n",
            "date: 20 September, 2024\n",
            "execute:\n",
            "   freeze: true\n",
            "---"
         ]
      },
      {
         "cell_type": "markdown",
         "metadata": {},
         "source": [
            "## Access this Notebook\n",
            "You can launch this notebook in the US GHG Center JupyterHub by clicking the link below. If you are a new user, you should first sign up for the hub by filling out this [**request form**](https://docs.google.com/forms/d/e/1FAIpQLSdai8otCdrVQzJgev8mjDhzKyCg7jcrB3UeTXNHoCiaMKrkaQ/viewform) and providing the required information. \n",
            "\n",
            "\n",
            "Access the [**EMIT Methane Point Source Plume Complexes**](https://us-ghg-center.github.io/ghgc-docs/user_data_notebooks/emit-ch4plume-v1_User_Notebook.html) notebook in the US GHG Center JupyterHub. "
         ]
      },
      {
         "cell_type": "markdown",
         "metadata": {},
         "source": [
            "## Table of Contents\n",
            "- [Data Summary and Application](#data-summary-and-application)\n",
            "- [Approach](#approach)\n",
            "- [About the Data](#about-the-data)\n",
            "- [Install the Required Libraries](#install-the-required-libraries)\n",
            "- [Query the STAC API](#query-the-stac-api)\n",
            "- [Visual Comparison Across Time Periods](#visual-comparison-across-time-periods)\n",
            "- [Map Out Selected Tiles](#map-out-selected-tiles)\n",
            "- [Calculate Zonal Statistics](#calculate-zonal-statistics)\n",
            "- [Time-Series Analysis](#time-series-analysis)\n",
            "- [Summary](#summary)"
         ]
      },
      {
         "cell_type": "markdown",
         "metadata": {},
         "source": [
            "## Data Summary and Application\n",
            "- **Spatial coverage**: Global\n",
            "- **Spatial resolution**: 52°N to 52°S latitude within target mask\n",
            "- **Temporal extent**: August 1, 2022 - Ongoing\n",
            "- **Temporal resolution**: Daily\n",
            "- **Unit**: Parts per million meter\n",
            "- **Utility**: Climate Research\n",
            "\n",
            "For more, visit the [EMIT Methane Point Source Plume Complexes](https://earth.gov/ghgcenter/data-catalog/emit-ch4plume-v1) data overview page.  "
         ]
      },
      {
         "cell_type": "markdown",
         "metadata": {},
         "source": [
            "## Table of Contents\n",
            "- [Data Summary and Application](#data-summary-and-application)\n",
            "- [Approach](#approach)\n",
            "- [About the Data](#about-the-data)\n",
            "- [Install the Required Libraries](#install-the-required-libraries)\n",
            "- [Query the STAC API](#query-the-stac-api)\n",
            "- [Map Out Selected Tiles](#map-out-selected-tiles)\n",
            "- [Calculate Zonal Statistics](#calculate-zonal-statistics)\n",
            "- [Summary](#summary)"
         ]
      },
      {
         "cell_type": "markdown",
         "metadata": {},
         "source": [
            "## Data Summary and Application\n",
            "- **Spatial coverage**: 52°N to 52°S latitude within target mask\n",
            "- **Spatial resolution**: 60 m\n",
            "- **Temporal extent**: August 1, 2022 - Ongoing\n",
            "- **Temporal resolution**: Variable\n",
            "- **Unit**: Parts per million meter (ppm-m)\n",
            "- **Utility**: Methane Emissions, Plume Detection, Climate Monitoring \n",
            "\n",
            "For more, visit the [EMIT Methane Point Source Plume Complexes](https://earth.gov/ghgcenter/data-catalog/emit-ch4plume-v1) data overview page.  "
         ]
      },
      {
         "attachments": {},
         "cell_type": "markdown",
         "metadata": {},
         "source": [
            "## Approach\n",
            "\n",
            "1. Identify available dates and temporal frequency of observations for the given collection using the GHGC API `/stac` endpoint. The collection processed in this notebook is the Earth Surface Mineral Dust Source Investigation (EMIT) methane emission plumes data product.\n",
            "2. Pass the STAC item into the raster API `/collections/{collection_id}/items/{item_id}/tilejson.json` endpoint.\n",
            "3. Using `folium.Map`, visualize the plumes.\n",
            "4. After the visualization, perform zonal statistics for a given polygon.\n",
            "\n",
            "   "
         ]
      },
      {
         "attachments": {},
         "cell_type": "markdown",
         "metadata": {},
         "source": [
            "## About the Data\n",
            "The Earth Surface Mineral Dust Source Investigation (EMIT) instrument builds upon NASA’s long history of developing advanced imaging spectrometers for new science and applications. EMIT launched to the International Space Station (ISS) on July 14, 2022. The data shows high-confidence research grade methane plumes from point source emitters - updated as they are identified - in keeping with Jet Propulsion Laboratory (JPL) Open Science and Open Data policy. \n",
            "\n",
            "Large methane emissions, typically referred to as point source emissions, represent a significant proportion of total methane emissions from the production, transport, and processing of oil and natural gas, landfills, and other sources. By measuring the spectral fingerprint of methane, EMIT can map areas of high methane concentration over background levels in the atmosphere, identifying plume complexes, and estimating the methane enhancements.\n",
            "\n",
            "For more information regarding this dataset, please visit the [EMIT Methane Point Source Plume Complexes](https://earth.gov/ghgcenter/data-catalog/emit-ch4plume-v1) data overview page."
         ]
      },
      {
         "attachments": {},
         "cell_type": "markdown",
         "metadata": {},
         "source": [
            "# Install the Required Libraries\n",
            "Required libraries are pre-installed on the GHG Center Hub, except the `tabulate` and `seaborn` libraries. If you need to run this notebook elsewhere, please install the libraries by running the following command line:\n",
            "\n",
            "%pip install requests folium rasterstats pystac_client pandas matplotlib --quiet"
         ]
      },
      {
         "attachments": {},
         "cell_type": "markdown",
         "metadata": {},
         "source": [
            "## Querying the STAC API\n",
            "First, we are going to import the required libraries. Once imported, they allow better executing a query in the GHG Center Spatio Temporal Asset Catalog (STAC) Application Programming Interface (API) where the granules for this collection are stored."
         ]
      },
      {
         "cell_type": "code",
         "execution_count": null,
         "metadata": {},
         "outputs": [],
         "source": [
            "# Import the following libraries\n",
            "import requests\n",
            "import folium\n",
            "import folium.plugins\n",
            "from folium import Map, TileLayer\n",
            "from pystac_client import Client\n",
            "import branca\n",
            "import pandas as pd\n",
            "import matplotlib.pyplot as plt\n",
            "import branca.colormap as cm\n",
            "import seaborn as sns"
         ]
      },
      {
         "cell_type": "code",
         "execution_count": 2,
         "metadata": {},
         "outputs": [],
         "source": [
            "# Provide the STAC and RASTER API endpoints\n",
            "# The endpoint is referring to a location within the API that executes a request on a data collection nesting on the server.\n",
            "\n",
            "# The STAC API is a catalog of all the existing data collections that are stored in the GHG Center.\n",
            "STAC_API_URL = \"https://earth.gov/ghgcenter/api/stac\"\n",
            "\n",
            "# The RASTER API is used to fetch collections for visualization\n",
            "RASTER_API_URL = \"https://earth.gov/ghgcenter/api/raster\"\n",
            "\n",
            "# The collection name is used to fetch the dataset from the STAC API. First, we define the collection name as a variable\n",
            "# Name of the collection for methane emission plumes \n",
            "collection_name = \"emit-ch4plume-v1\""
         ]
      },
      {
         "cell_type": "code",
         "execution_count": null,
         "metadata": {},
         "outputs": [],
         "source": [
            "# Fetch the collection from the STAC API using the appropriate endpoint\n",
            "# The 'requests' library allows a HTTP request possible\n",
            "collection = requests.get(f\"{STAC_API_URL}/collections/{collection_name}\").json()\n",
            "\n",
            "# Print the properties of the collection to the console\n",
            "collection"
         ]
      },
      {
         "attachments": {},
         "cell_type": "markdown",
         "metadata": {},
         "source": [
            "Examining the contents of our `collection` under the `temporal` variable, we note that data is available from August 2022 to May 2023. By looking at the `dashboard: time density`, we can see that observations are conducted daily and non-periodically (i.e., there are plumes emissions for multiple places on the same dates)."
         ]
      },
      {
         "cell_type": "code",
         "execution_count": 4,
         "metadata": {},
         "outputs": [],
         "source": [
            "def get_item_count(collection_id):\n",
            "    count = 0\n",
            "    items_url = f\"{STAC_API_URL}/collections/{collection_id}/items\"\n",
            "\n",
            "    while True:\n",
            "        response = requests.get(items_url)\n",
            "\n",
            "        if not response.ok:\n",
            "            print(\"error getting items\")\n",
            "            exit()\n",
            "\n",
            "        stac = response.json()\n",
            "        count += int(stac[\"context\"].get(\"returned\", 0))\n",
            "        next = [link for link in stac[\"links\"] if link[\"rel\"] == \"next\"]\n",
            "\n",
            "        if not next:\n",
            "            break\n",
            "        items_url = next[0][\"href\"]\n",
            "\n",
            "    return count"
         ]
      },
      {
         "cell_type": "code",
         "execution_count": null,
         "metadata": {},
         "outputs": [],
         "source": [
            "# Check total number of items available\n",
            "number_of_items = get_item_count(collection_name)\n",
            "items = requests.get(f\"{STAC_API_URL}/collections/{collection_name}/items?limit={number_of_items}\").json()[\"features\"]\n",
            "print(f\"Found {len(items)} items\")"
         ]
      },
      {
         "cell_type": "code",
         "execution_count": null,
         "metadata": {},
         "outputs": [],
         "source": [
            "# Import the following libraries\n",
            "import requests\n",
            "import folium\n",
            "import folium.plugins\n",
            "from folium import Map, TileLayer \n",
            "from pystac_client import Client \n",
            "import branca \n",
            "import pandas as pd\n",
            "import matplotlib.pyplot as plt\n",
            "from tabulate import tabulate\n",
            "import branca.colormap as cm\n",
            "import seaborn as sns"
         ]
      },
      {
         "attachments": {},
         "cell_type": "markdown",
         "metadata": {},
         "source": [
            "## Query the STAC API\n",
            "First, you need to import the required libraries. Once imported, they allow better execution of a query in the GHG Center **Spatio Temporal Asset Catalog (STAC)** Application Programming Interface (API) where the granules for this collection are stored. You will learn the functionality of each library throughout the notebook."
         ]
      },
      {
         "cell_type": "code",
         "execution_count": 9,
         "metadata": {},
         "outputs": [],
         "source": [
            "# Provide the STAC and RASTER API endpoints\n",
            "# The endpoint is referring to a location within the API that executes a request on a data collection nesting on the server.\n",
            "\n",
            "# The STAC API is a catalog of all the existing data collections that are stored in the GHG Center.\n",
            "STAC_API_URL = \"https://earth.gov/ghgcenter/api/stac/\"\n",
            "\n",
            "# The RASTER API is used to fetch collections for visualization\n",
            "RASTER_API_URL = \"https://earth.gov/ghgcenter/api/raster/\""
         ]
      },
      {
         "cell_type": "markdown",
         "metadata": {},
         "source": [
            "**STAC API Collection Names**\n",
            "\n",
            "Now, you must fetch the dataset from the [**STAC API**](https://earth.gov/ghgcenter/api/stac/) by defining its associated STAC API collection ID as a variable. \n",
            "The collection ID, also known as the **collection name**, for the EMIT Methane Point Source Plume Complexes dataset is [**emit-ch4plume-v1**](https://earth.gov/ghgcenter/api/stac/collections/emit-ch4plume-v1)"
         ]
      },
      {
         "cell_type": "code",
         "execution_count": null,
         "metadata": {},
         "outputs": [],
         "source": [
            "# The collection name is used to fetch the dataset from the STAC API. First, we define the collection name as a variable\n",
            "# Name of the collection for methane emission plumes \n",
            "collection_name = \"emit-ch4plume-v1\"\n",
            "\n",
            "\n",
            "# Fetch the collection from the STAC API using the appropriate endpoint\n",
            "# The 'requests' library allows a HTTP request possible\n",
            "collection = requests.get(f\"{STAC_API_URL}/collections/{collection_name}\").json()\n",
            "\n",
            "# Print the properties of the collection in a table\n",
            "# Adjust display settings\n",
            "pd.set_option('display.max_colwidth', None)  # Set maximum column width to \"None\" to prevent cutting off text\n",
            "\n",
            "# Extract the relevant information about the collection\n",
            "collection_info = {\n",
            "    \"Title\": collection.get(\"title\", \"N/A\"), # Extract the title of the collection \n",
            "    \"Description\": collection.get(\"description\", \"N/A\"), # Extract the dataset description\n",
            "    \"Temporal Extent\": collection.get(\"extent\", {}).get(\"temporal\", {}).get(\"interval\", \"N/A\"), # Extract the temporal coverage of the collection\n",
            "    \"Spatial Extent\": collection.get(\"extent\", {}).get(\"spatial\", {}).get(\"bbox\", \"N/A\"), # Extract the spatial coverage of the collection\n",
            "}\n",
            "\n",
            "# Convert the derived information into a DataFrame format\n",
            "properties_table = pd.DataFrame(list(collection_info.items()), columns=[\"Collection Summary\", \"\"])\n",
            "\n",
            "# Display the properties in a table\n",
            "collection_summary = properties_table.style.set_properties(**{'text-align': 'left'}) \\\n",
            "                                           .set_table_styles([\n",
            "    {\n",
            "        'selector': 'th.col0, td.col0',    # Select the first column\n",
            "        'props': [('min-width', '200px'),  # Set a minimum width\n",
            "                  ('text-align', 'left')]  # Align text to the left\n",
            "    },\n",
            "    {\n",
            "        'selector': 'td.col1',             # Select the second column\n",
            "        'props': [('text-align', 'left')]  # Align text to the left\n",
            "    }\n",
            "])\n",
            "\n",
            "# Print the collection summary table\n",
            "collection_summary"
         ]
      },
      {
         "attachments": {},
         "cell_type": "markdown",
         "metadata": {},
         "source": [
            "Next, you will examine the contents of the `collection` under the `temporal` variable. You’ll see that the data is available since August 2022. Looking at the `dashboard: time density`, you can see that observations are conducted daily and non-periodically (i.e., there are plumes emissions for multiple places on the same dates)."
         ]
      },
      {
         "cell_type": "code",
         "execution_count": 12,
         "metadata": {},
         "outputs": [],
         "source": [
            "# Create a function that would search for data collection in the US GHG Center STAC API\n",
            "\n",
            "# First, we need to define the function\n",
            "# The name of the function is \"get_item_count\" \n",
            "# The argument that will be passed to the defined function is \"collection_id\"\n",
            "def get_item_count(collection_id):\n",
            "\n",
            "    # Set a counter for the number of items existing in the collection \n",
            "    count = 0 \n",
            "\n",
            "    # Define the path to retrieve the granules (items) of the collection of interest in the STAC API\n",
            "    items_url = f\"{STAC_API_URL}/collections/{collection_id}/items\" \n",
            "\n",
            "    # Run a while loop to make HTTP requests until there are no more URLs associated with the collection in the STAC API\n",
            "    while True:\n",
            "\n",
            "        # Retrieve information about the granules by sending a \"get\" request to the STAC API using the defined collection path \n",
            "        response = requests.get(items_url) \n",
            "\n",
            "        # If the items do not exist, print an error message and quit the loop\n",
            "        if not response.ok:\n",
            "            print(\"error getting items\")\n",
            "            exit()\n",
            "\n",
            "        # Return the results of the HTTP response as JSON\n",
            "        stac = response.json()\n",
            "\n",
            "        # Increase the \"count\" by the number of items (granules) returned in the response\n",
            "        count += int(stac[\"context\"].get(\"returned\", 0))\n",
            "\n",
            "        # Retrieve information about the next URL associated with the collection in the STAC API (if applicable)\n",
            "        next = [link for link in stac[\"links\"] if link[\"rel\"] == \"next\"]\n",
            "\n",
            "        # Exit the loop if there are no other URLs\n",
            "        if not next:\n",
            "            break\n",
            "        \n",
            "        # Ensure the information gathered by other STAC API links associated with the collection are added to the original path\n",
            "        # \"href\" is the identifier for each of the tiles stored in the STAC API\n",
            "        items_url = next[0][\"href\"]\n",
            "\n",
            "    # Return the information about the total number of granules found associated with the collection\n",
            "    return count"
         ]
      },
      {
         "cell_type": "code",
         "execution_count": null,
         "metadata": {},
         "outputs": [],
         "source": [
            "# Apply the function created above \"get_item_count\" to the collection\n",
            "number_of_items = get_item_count(collection_name)\n",
            "\n",
            "# Get the information about the number of granules found in the collection\n",
            "items = requests.get(f\"{STAC_API_URL}/collections/{collection_name}/items?limit={number_of_items}\").json()[\"features\"]\n",
            "\n",
            "# Print the total number of items (granules) found\n",
            "print(f\"Found {len(items)} observations\")\n",
            "\n",
            "# Sort the items based on their date-time attribute\n",
            "items_sorted = sorted(items, key=lambda x: x[\"properties\"][\"datetime\"])\n",
            "\n",
            "# Create an empty list\n",
            "table_data = []\n",
            "# Extract the ID and date-time information for each granule and add them to the list\n",
            "# By default, only the first 5 items in the collection are extracted to be displayed in the table. \n",
            "# To see the date-time of all existing granules in this collection, remove \"5\" from \"item_sorted[:5]\" in the line below. \n",
            "for item in items_sorted[:5]:\n",
            "    table_data.append([item['id'], item['properties']['datetime']])\n",
            "\n",
            "# Define the table headers\n",
            "headers = [\"Item ID\", \"Date-Time\"]\n",
            "\n",
            "print(\"Below you see the first 5 items in the collection, along with their item IDs and corresponding Start Date-Time.\")\n",
            "\n",
            "# Print the table using tabulate\n",
            "print(tabulate(table_data, headers=headers, tablefmt=\"fancy_grid\"))"
         ]
      },
      {
         "cell_type": "code",
         "execution_count": null,
         "metadata": {},
         "outputs": [],
         "source": [
            "# Examine the first item in the collection\n",
            "# Keep in mind that a list starts from 0, 1, 2... therefore items[0] refers to the first item (granule) in the list/collection\n",
            "items_sorted[0]"
         ]
      },
      {
         "attachments": {},
         "cell_type": "markdown",
         "metadata": {},
         "source": [
            "## Map Out Selected Tiles\n",
            "\n",
            "You will now explore global methane emission plumes from point sources and visualize the results on a map using folium. "
         ]
      },
      {
         "cell_type": "code",
         "execution_count": 15,
         "metadata": {},
         "outputs": [],
         "source": [
            "# Once again, apply the function created above \"get_item_count\" to the Air-Sea CO2 Flux ECCO-Darwin collection\n",
            "# This step allows retrieving the number of granules “observations” in the collection.\n",
            "number_of_items = get_item_count(collection_name)\n",
            "items = requests.get(f\"{STAC_API_URL}/collections/{collection_name}/items?limit={number_of_items}\").json()[\"features\"]\n",
            "\n",
            "\n",
            "# Next, you need to create a dictionary where the \"id\" field of each item in the collection are queried more explicitly\n",
            "plume_complexes = {items[\"id\"]: items for items in items} \n",
            "\n",
            "\n",
            "# Next, you need to specify the asset name for this collection.\n",
            "# The asset name refers to the raster band containing the pixel values for the parameter of interest.\n",
            "# For the case of the EMIT Methane Point Source collection, the parameter of interest is “ch4-plume-emissions”.\n",
            "asset_name = \"ch4-plume-emissions\""
         ]
      },
      {
         "cell_type": "markdown",
         "metadata": {},
         "source": [
            "Below, you will enter the minimum and maximum values to provide our upper and lower bounds in the `rescale_values`."
         ]
      },
      {
         "cell_type": "code",
         "execution_count": 16,
         "metadata": {},
         "outputs": [],
         "source": [
            "# Fetching the min and max values for a specific item\n",
            "rescale_values = {\"max\":plume_complexes[list(plume_complexes.keys())[0]][\"assets\"][asset_name][\"raster:bands\"][0][\"histogram\"][\"max\"], \"min\":plume_complexes[list(plume_complexes.keys())[0]][\"assets\"][asset_name][\"raster:bands\"][0][\"histogram\"][\"min\"]}"
         ]
      },
      {
         "attachments": {},
         "cell_type": "markdown",
         "metadata": {},
         "source": [
            "Now, you will pass the item id, collection name, asset name, and the `rescaling factor` to the `Raster API` endpoint."
         ]
      },
      {
         "cell_type": "code",
         "execution_count": null,
         "metadata": {},
         "outputs": [],
         "source": [
            "# Select the item ID which you want to visualize. Item ID is in the format yyyymmdd followed by the timestamp. This ID can be extracted from the COG name as well.\n",
            "# To browse and select other tiles in the collection, please visit https://search.earthdata.nasa.gov/search/granules?p=C2748088093-LPCLOUD&pg[0][v]=f&pg[0][gsk]=-start_date&q=emit%20plume&tl=1694622854.77!3!!\n",
            "\n",
            "# You need to copy the entire granule nomenclature \n",
            "item_id = \"EMIT_L2B_CH4PLM_001_20230418T200118_000829\"\n",
            "\n",
            "# Choose a color map for displaying the first observation (event)\n",
            "# Please refer to matplotlib library if you'd prefer to choose a different color ramp.\n",
            "# For more information on Colormaps in Matplotlib, please visit https://matplotlib.org/stable/users/explain/colors/colormaps.html\n",
            "color_map = \"magma\"\n",
            "\n",
            "# Make a GET request to retrieve information for the selected tile defined in \"item_id\"\n",
            "methane_plume_tile = requests.get(\n",
            "    f\"{RASTER_API_URL}/collections/{plume_complexes[item_id]['collection']}/items/{plume_complexes[item_id]['id']}/tilejson.json?\"\n",
            "    f\"&assets={asset_name}\"\n",
            "    \n",
            "    # Pass the color formula and colormap for custom visualization\n",
            "    f\"&color_formula=gamma+r+1.05&colormap_name={color_map}\"\n",
            "    \n",
            "    # Pass the minimum and maximum values for rescaling \n",
            "    f\"&rescale={rescale_values['min']},{rescale_values['max']}\", \n",
            "    \n",
            "# Return the response in JSON format\n",
            ").json()\n",
            "\n",
            "# Print the properties of the retrieved granule to the console\n",
            "methane_plume_tile"
         ]
      },
      {
         "cell_type": "code",
         "execution_count": null,
         "metadata": {},
         "outputs": [],
         "source": [
            "# Set a colormap for the granule\n",
            "# Please refer to matplotlib library if you'd prefer choosing a different color ramp (https://matplotlib.org/stable/users/explain/colors/colormaps.html)\n",
            "colormap = \"magma\" \n",
            "\n",
            "\n",
            "# Defining the breaks in the colormap \n",
            "color_map = cm.LinearColormap(colors = ['#310597', '#4C02A1', '#6600A7', '#7E03A8', '#9511A1', '#AA2395', '#BC3587', '#CC4778', '#DA5A6A', '#E66C5C', '#F0804E', '#F89540','#FDAC33', '#FDC527', '#F8DF25'], vmin = 0, vmax = 1500 )\n",
            "\n",
            "\n",
            "# Add an appropriate caption, in this case it would be Parts per million meter\n",
            "color_map.caption = 'ppm-m'\n",
            "\n",
            "# Set initial zoom and center of map for plume Layer\n",
            "map_ = folium.Map(location=(methane_plume_tile[\"center\"][1], methane_plume_tile[\"center\"][0]), zoom_start=14, tiles=None, tooltip = 'test tool tip')\n",
            "folium.TileLayer(tiles='https://server.arcgisonline.com/ArcGIS/rest/services/World_Imagery/MapServer/tile/{z}/{y}/{x}.png', name='ESRI World Imagery', attr='Tiles &copy; Esri &mdash; Source: Esri, i-cubed, USDA, USGS, AEX, GeoEye, Getmapping, Aerogrid, IGN, IGP, UPR-EGP, and the GIS User Community',overlay='True').add_to(map_)\n",
            "\n",
            "\n",
            "# Use the 'TileLayer' library to display the raster layer, add an appropriate caption, and adjust the transparency of the layer on the map\n",
            "map_layer = TileLayer(\n",
            "    tiles=methane_plume_tile[\"tiles\"][0], # Path to retrieve the tile\n",
            "    name='Plume Complex Landfill',\n",
            "    overlay='True', # The layer can be overlaid on the map\n",
            "    attr=\"GHG\", # Set the attribution \n",
            "    opacity=1, # Adjust the transparency of the layer\n",
            ")\n",
            "map_layer.add_to(map_)\n",
            "\n",
            "\n",
            "# Adjust map elements \n",
            "folium.LayerControl(collapsed=False, position='bottomleft').add_to(map_)\n",
            "map_.add_child(color_map)\n",
            "svg_style = '<style>svg#legend {font-size: 14px; background-color: white;}</style>'\n",
            "map_.get_root().header.add_child(folium.Element(svg_style))\n",
            "\n",
            "\n",
            "# Visualizing the map\n",
            "map_"
         ]
      },
      {
         "attachments": {},
         "cell_type": "markdown",
         "metadata": {},
         "source": [
            "# Calculate Zonal Statistics\n",
            "To perform zonal statistics, you first need to create a polygon. In this use case, you are creating a polygon using the plume's retrieved coordinates."
         ]
      },
      {
         "cell_type": "code",
         "execution_count": 19,
         "metadata": {},
         "outputs": [],
         "source": [
            "# Access the coordinates of the plume feature (using the 'item_id')\n",
            "plumes_coordinates = plume_complexes[item_id][\"geometry\"][\"coordinates\"]\n",
            "\n",
            "# Create a polygon for the area of interest (aoi)\n",
            "methane_plume_aoi = {\n",
            "    \"type\": \"Feature\", # Create a feature object\n",
            "    \"properties\": {},\n",
            "    \"geometry\": {      # The geometry of the feature\n",
            "        \"coordinates\":\n",
            "            plumes_coordinates,  # Use the plume's coordinates retrieved earlier\n",
            "        \"type\": \"Polygon\",\n",
            "    },\n",
            "}"
         ]
      },
      {
         "cell_type": "code",
         "execution_count": null,
         "metadata": {},
         "outputs": [],
         "source": [
            "# Please put the name of the place you are trying to visualize. \n",
            "# The granule that was selected by default is showuing plumes near Denver, United States. \n",
            "region_name = \"Place_Holder\"\n",
            "\n",
            "\n",
            "# Create a new map to display the generated polygon\n",
            "aoi_map = Map(\n",
            "    \n",
            "    # Base map is set to OpenStreetMap\n",
            "    tiles=\"OpenStreetMap\",\n",
            "    \n",
            "    # Define the spatial properties for the map\n",
            "    location=[\n",
            "        plumes_coordinates[0][0][1],\n",
            "        plumes_coordinates[0][0][0]\n",
            "    ],\n",
            "    \n",
            "    # Set the center of the map\n",
            "    zoom_start=12,\n",
            ")\n",
            "\n",
            "# Insert the polygon to the map\n",
            "folium.GeoJson(methane_plume_aoi, name=region_name).add_to(aoi_map)\n",
            "\n",
            "\n",
            "# Visualize the map\n",
            "aoi_map"
         ]
      },
      {
         "cell_type": "code",
         "execution_count": null,
         "metadata": {},
         "outputs": [],
         "source": [
            "# Check the total number of items available within the collection\n",
            "items = requests.get(\n",
            "    f\"{STAC_API_URL}/collections/{collection_name}/items?limit={number_of_items}\"\n",
            ").json()[\"features\"]\n",
            "\n",
            "# Print the total number of items (granules) found\n",
            "print(f\"Found {len(items)} items\")"
         ]
      },
      {
         "cell_type": "code",
         "execution_count": null,
         "metadata": {},
         "outputs": [],
         "source": [
            "# Examine the first item in the collection\n",
            "# Keep in mind that a list starts from 0, 1, 2... therefore items[0] refers to the first item (granule) in the list/collection\n",
            "items[0]"
         ]
      },
      {
         "cell_type": "code",
         "execution_count": 23,
         "metadata": {},
         "outputs": [],
         "source": [
            "# The bounding box should be passed to the geojson param as a geojson Feature or FeatureCollection\n",
            "# Create a function that retrieves information regarding a specific granule using its asset name and raster identifier and generates the statistics for it\n",
            "\n",
            "# The function takes an item (granule) and a JSON (polygon) as input parameters\n",
            "def generate_stats(item, geojson):\n",
            "    \n",
            "    # A POST request is made to submit the data associated with the item of interest (specific observation) within the boundaries of the polygon to compute its statistics\n",
            "    result = requests.post(\n",
            "        \n",
            "        # Raster API Endpoint for computing statistics\n",
            "        f\"{RASTER_API_URL}/cog/statistics\",\n",
            "        \n",
            "        # Pass the URL to the item, asset name, and raster identifier as parameters\n",
            "        params={\"url\": item[\"assets\"][asset_name][\"href\"]},\n",
            "        \n",
            "        # Send the GeoJSON object (polygon) along with the request\n",
            "        json=geojson,\n",
            "        \n",
            "    # Return the response in JSON format\n",
            "    ).json()\n",
            "    \n",
            "    # Print the result\n",
            "    print(result)\n",
            "    \n",
            "    # Return a dictionary containing the computed statistics along with the item's datetime information.\n",
            "    return {\n",
            "        **result[\"properties\"],\n",
            "        \"item_id\": item[\"id\"][20:],\n",
            "    }"
         ]
      },
      {
         "cell_type": "code",
         "execution_count": null,
         "metadata": {},
         "outputs": [],
         "source": [
            "# Generate a for loop that iterates over all the existing items in the collection \n",
            "for item in items:\n",
            "    \n",
            "    # The loop will then retrieve the information for the start datetime of each item in the list\n",
            "    #print(item[\"id\"])\n",
            "    print(item[\"properties\"][\"datetime\"])\n",
            "    \n",
            "    # Exit the loop after printing the start datetime for the first item in the collection\n",
            "    break"
         ]
      },
      {
         "attachments": {},
         "cell_type": "markdown",
         "metadata": {},
         "source": [
            "With the function above, we can generate the statistics for the area of interest."
         ]
      },
      {
         "cell_type": "code",
         "execution_count": null,
         "metadata": {},
         "outputs": [],
         "source": [
            "%%time\n",
            "# %%time = Wall time (execution time) for running the code below\n",
            "\n",
            "# Generate statistics using the created function \"generate_stats\" within the bounding box defined by the aoi polygon\n",
            "stats = [generate_stats(item, methane_plume_aoi) for item in items]\n",
            "stats = [ stat for stat in stats if stat[\"statistics\"][\"b1\"][\"mean\"] != None]"
         ]
      },
      {
         "cell_type": "code",
         "execution_count": null,
         "metadata": {},
         "outputs": [],
         "source": [
            "stats[0]"
         ]
      },
      {
         "cell_type": "code",
         "execution_count": null,
         "metadata": {},
         "outputs": [],
         "source": [
            "def clean_stats(stats_json) -> pd.DataFrame:\n",
            "    df = pd.json_normalize(stats_json)\n",
            "    df.columns = [col.replace(\"statistics.b1.\", \"\") for col in df.columns]\n",
            "    # df[\"date\"] = pd.to_datetime(df[\"datetime\"])\n",
            "    return df\n",
            "\n",
            "\n",
            "df = clean_stats(stats)\n",
            "df"
         ]
      },
      {
         "cell_type": "code",
         "execution_count": null,
         "metadata": {},
         "outputs": [],
         "source": [
            "plume_tile_2 = requests.get(\n",
            "    f\"{RASTER_API_URL}/collections/{items[0]['collection']}/items/{items[0]['id']}/tilejson.json?\"\n",
            "    f\"&assets={asset_name}\"\n",
            "    f\"&color_formula=gamma+r+1.05&colormap_name={color_map}\"\n",
            "    f\"&rescale={rescale_values['min']},{rescale_values['max']}\",\n",
            ").json()\n",
            "plume_tile_2"
         ]
      },
      {
         "cell_type": "code",
         "execution_count": null,
         "metadata": {},
         "outputs": [],
         "source": [
            "# Use bbox initial zoom and map\n",
            "# Set up a map located w/in event bounds\n",
            "plume_tile_2_coordinates = items[0][\"geometry\"][\"coordinates\"]\n",
            "aoi_map_bbox = Map(\n",
            "    tiles=\"OpenStreetMap\",\n",
            "    location=[\n",
            "        plume_tile_2_coordinates[0][0][1],\n",
            "        plume_tile_2_coordinates[0][0][0]\n",
            "    ],\n",
            "    zoom_start=10,\n",
            ")\n",
            "\n",
            "map_layer = TileLayer(\n",
            "    tiles=plume_tile_2[\"tiles\"][0],\n",
            "    attr=\"GHG\", opacity = 1\n",
            ")\n",
            "\n",
            "map_layer.add_to(aoi_map_bbox)\n",
            "\n",
            "aoi_map_bbox"
         ]
      },
      {
         "attachments": {},
         "cell_type": "markdown",
         "metadata": {},
         "source": [
            "## Summary\n",
            "\n",
            "In this notebook we have successfully completed the following steps for the STAC collection for the EMIT Methane Point Source Plume Complexes dataset:\n",
            "1.  Install and import the necessary libraries\n",
            "2.  Fetch the collection from STAC collections using the appropriate endpoints\n",
            "3.  Count the number of existing granules within the collection\n",
            "4.  Map the methane emission plumes\n",
            "5.  Generate statistics for the area of interest (AOI)\n",
            "\n",
            "If you have any questions regarding this user notebook, please contact us using the [feedback form](https://docs.google.com/forms/d/e/1FAIpQLSeVWCrnca08Gt_qoWYjTo6gnj1BEGL4NCUC9VEiQnXA02gzVQ/viewform)."
         ]
      }
   ],
   "metadata": {
      "kernelspec": {
         "display_name": "ams-workshop",
         "language": "python",
         "name": "python3"
      },
      "language_info": {
         "codemirror_mode": {
            "name": "ipython",
            "version": 3
         },
         "file_extension": ".py",
         "mimetype": "text/x-python",
         "name": "python",
         "nbconvert_exporter": "python",
         "pygments_lexer": "ipython3",
         "version": "3.9.18"
      }
   },
   "nbformat": 4,
   "nbformat_minor": 4
}
