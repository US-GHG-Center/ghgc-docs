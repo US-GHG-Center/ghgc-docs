{
 "cells": [
  {
   "cell_type": "raw",
   "id": "257bb7c7-a122-491f-b05f-5e5293762d9e",
   "metadata": {
    "vscode": {
     "languageId": "raw"
    }
   },
   "source": [
    "---\n",
    "title: GRA²PES Greenhouse Gas and Air Quality Species\n",
    "description: Monthly, 0.036 degree resolution emissions of carbon dioxide (CO₂), carbon monoxide (CO), nitrogen oxide (NOₓ), sulfur dioxide (SO₂), and particulate matter (PM2.5) emissions for the year 2021 over the Contiguous United States from the Greenhouse gas And Air Pollutants Emissions System (GRA²PES)      \n",
    "author: Siddharth Chaudhary, Paridhi Parajuli\n",
    "date: 30 August 2024\n",
    "execute:\n",
    "   freeze: true\n",
    "---"
   ]
  },
  {
   "cell_type": "markdown",
   "id": "7fbf2b91",
   "metadata": {},
   "source": [
    "## Access this Notebook\n",
    "You can launch this notebook in the US GHG Center JupyterHub by clicking the link below. If you are a new user, you should first sign up for the hub by filling out this [**request form**](https://docs.google.com/forms/d/e/1FAIpQLSdai8otCdrVQzJgev8mjDhzKyCg7jcrB3UeTXNHoCiaMKrkaQ/viewform) and providing the required information. \n",
    "\n",
    "\n",
    "Access the [**GRA²PES Greenhouse Gas and Air Quality Species**](https://us-ghg-center.github.io/ghgc-docs/user_data_notebooks/gra2pes-ghg-monthgrid-v1_User_Notebook_User_Notebook.html) notebook in the US GHG Center JupyterHub. "
   ]
  },
  {
   "cell_type": "markdown",
   "id": "fa350b8f",
   "metadata": {},
   "source": [
    "## Table of Contents\n",
    "- [Data Summary and Application](#data-summary-and-application)\n",
    "- [Approach](#approach)\n",
    "- [About the Data](#about-the-data)\n",
    "- [Install the Required Libraries](#install-the-required-libraries)\n",
    "- [Query the STAC API](#query-the-stac-api)\n",
    "- [Visual Comparison Across Time Periods](#visual-comparison-across-time-periods)\n",
    "- [Map Out Selected Tiles](#map-out-selected-tiles)\n",
    "- [Calculate Zonal Statistics](#calculate-zonal-statistics)\n",
    "- [Time-Series Analysis](#time-series-analysis)\n",
    "- [Summary](#summary)"
   ]
  },
  {
   "cell_type": "markdown",
   "id": "c5ae42dc",
   "metadata": {},
   "source": [
    "## Data Summary and Application\n",
    "- **Spatial coverage**: Global\n",
    "- **Spatial resolution**: 0.036° x 0.036°\n",
    "- **Temporal extent**: January 2021 - December 2021\n",
    "- **Temporal resolution**: Monthly\n",
    "- **Unit**: Metric tons per kilometer squared per month (tonne/km²/month) for carbon dioxide (CO₂), carbon monoxide (CO), nitrogen oxides (NOₓ), sulfur dioxide (SO₂), and particulate matter (PM2.5)\n",
    "- **Utility**: Climate Research\n",
    "\n",
    "For more, visit the [GRA²PES Greenhouse Gas and Air Quality Species](https://earth.gov/ghgcenter/data-catalog/gra2pes-ghg-monthgrid-v1) data overview page.  "
   ]
  },
  {
   "cell_type": "markdown",
   "id": "8ad57cc0",
   "metadata": {},
   "source": [
    "## Approach\n",
    "\n",
    "1. Identify available dates and temporal frequency of observations for the given collection using the GHGC API `/stac` endpoint. The collection processed in this notebook is the Vulcan Fossil Fuel CO₂ Emissions Data product.\n",
    "2. Pass the STAC item into the raster API `/stac/tilejson.json `endpoint.\n",
    "3. Using `folium.plugins.DualMap`, we will visualize two tiles (side-by-side), allowing us to compare time points. \n",
    "4. After the visualization, we will perform zonal statistics for a given polygon.\n",
    "\n",
    "   "
   ]
  },
  {
   "cell_type": "markdown",
   "id": "c2ffe091",
   "metadata": {},
   "source": [
    "## About the Data\n",
    "\n",
    "The Greenhouse gas And Air Pollutants Emissions System (GRA2PES) dataset at the GHG Center is an aggregated, regridded, monthly high-resolution (0.036 x 0.036°) data product with emissions of both greenhouse gases and air pollutants developed in a consistent framework. The dataset contains emissions over the contiguous United States covering major anthropogenic sectors, including energy, industrial fuel combustion and processes, commercial and residential combustion, oil and gas production, on-road and off-road transportation, etc. (see Table 1 in the Scientific Details section below for a full sector list). Fossil fuel CO2 (ffCO2) emissions are developed along with those of air pollutants including CO, NOx, SOx, and PM2.5 with consistency in spatial and temporal distributions. Emissions by sectors are grouped into point and area sources, reported as column totals in units of metric tons per km2 per month. Spatial-temporal surrogates are developed to distribute CO2 emissions to grid cells to keep consistency between greenhouse gases and air quality species. The current version of GRA2PES is for 2021. Long-term emissions and more greenhouse gas species (e.g., methane) are under development and will be added in the future.\n",
    "\n",
    "For more information regarding this dataset, please visit the [GRA2PES Greenhouse Gas and Air Quality Species, Version 1](https://earth.gov/ghgcenter/data-catalog/gra2pes-ghg-monthgrid-v1) data overview page."
   ]
  },
  {
   "cell_type": "markdown",
   "id": "ce2f8197",
   "metadata": {},
   "source": [
    "# Install the Required Libraries\n",
    "Required libraries are pre-installed on the GHG Center Hub. If you need to run this notebook elsewhere, please install them with this line in a code cell:\n",
    "\n",
    "%pip install requests folium rasterstats pystac_client pandas matplotlib --quiet"
   ]
  },
  {
   "cell_type": "code",
   "execution_count": 1,
   "id": "503e5661-b99b-421b-b4ba-361bb531e5fa",
   "metadata": {},
   "outputs": [],
   "source": [
    "import requests\n",
    "import folium\n",
    "import folium.plugins\n",
    "from folium import Map, TileLayer \n",
    "from pystac_client import Client \n",
    "import branca \n",
    "import pandas as pd\n",
    "import matplotlib.pyplot as plt"
   ]
  },
  {
   "cell_type": "markdown",
   "id": "9904b2c6",
   "metadata": {},
   "source": [
    "## Querying the STAC API\n",
    "First, we are going to import the required libraries. Once imported, they allow better executing a query in the GHG Center Spatio Temporal Asset Catalog (STAC) Application Programming Interface (API) where the granules for this collection are stored."
   ]
  },
  {
   "cell_type": "code",
   "execution_count": 2,
   "id": "a7602b2d-2650-42cb-9ae3-09eb3fe7891b",
   "metadata": {},
   "outputs": [],
   "source": [
    "# Provide STAC and RASTER API endpoints\n",
    "STAC_API_URL = \"https://earth.gov/ghgcenter/api/stac\"\n",
    "RASTER_API_URL = \"https://earth.gov/ghgcenter/api/raster\"\n",
    "\n",
    "# Please use the collection name similar to the one used in the STAC collection.\n",
    "# Name of the collection for Vulcan Fossil Fuel CO₂ Emissions, Version 4. \n",
    "collection_name = \"gra2pes-ghg-monthgrid-v1\""
   ]
  },
  {
   "cell_type": "code",
   "execution_count": 6,
   "id": "941eae92-6ec0-46a4-ab8f-739973b59e6f",
   "metadata": {},
   "outputs": [],
   "source": [
    "# Fetch the collection from STAC collections using the appropriate endpoint\n",
    "# the 'requests' library allows a HTTP request possible\n",
    "collection_graapes = requests.get(f\"{STAC_API_URL}/collections/{collection_name}\").json()\n"
   ]
  },
  {
   "cell_type": "markdown",
   "id": "132947f6",
   "metadata": {},
   "source": [
    "Examining the contents of our `collection` under the `temporal` variable, we see that the data is available from January 2010 to December 2021. By looking at the `dashboard:time density`, we observe that the data is periodic with year time density."
   ]
  },
  {
   "cell_type": "code",
   "execution_count": 8,
   "id": "b56d6c87-11b9-48ca-9723-8304984a644b",
   "metadata": {},
   "outputs": [],
   "source": [
    "# Create a function that would search for the above data collection in the STAC API\n",
    "def get_item_count(collection_id):\n",
    "    count = 0\n",
    "    items_url = f\"{STAC_API_URL}/collections/{collection_id}/items\"\n",
    "\n",
    "    while True:\n",
    "        response = requests.get(items_url)\n",
    "\n",
    "        if not response.ok:\n",
    "            print(\"error getting items\")\n",
    "            exit()\n",
    "\n",
    "        stac = response.json()\n",
    "        count += int(stac[\"context\"].get(\"returned\", 0))\n",
    "        next = [link for link in stac[\"links\"] if link[\"rel\"] == \"next\"]\n",
    "\n",
    "        if not next:\n",
    "            break\n",
    "        items_url = next[0][\"href\"]\n",
    "\n",
    "    return count"
   ]
  },
  {
   "cell_type": "code",
   "execution_count": 10,
   "id": "eaaf1487-2e71-490b-a968-e57ee332a919",
   "metadata": {},
   "outputs": [
    {
     "name": "stdout",
     "output_type": "stream",
     "text": [
      "Found 12 items\n"
     ]
    }
   ],
   "source": [
    "# Apply the above function and check the total number of items available within the collection\n",
    "number_of_items = get_item_count(collection_name)\n",
    "items_graapes = requests.get(f\"{STAC_API_URL}/collections/{collection_name}/items?limit={number_of_items}\").json()[\"features\"]\n",
    "print(f\"Found {len(items_vulcan)} items\")"
   ]
  },
  {
   "cell_type": "code",
   "execution_count": 28,
   "id": "01619ee2-728c-4abc-9edf-a2c85d87128d",
   "metadata": {},
   "outputs": [],
   "source": [
    "# To access the year value from each item more easily, this will let us query more explicitly by year and month (e.g., 2020-02)\n",
    "items = {item[\"properties\"][\"start_datetime\"][:7]: item for item in items_graapes} \n",
    "# rh = Heterotrophic Respiration\n",
    "asset_name = \"co2\""
   ]
  },
  {
   "cell_type": "code",
   "execution_count": 14,
   "id": "f9deb11d-4c33-4f59-8532-7829602e3113",
   "metadata": {},
   "outputs": [],
   "source": [
    "rescale_values = {\"max\":items[list(items.keys())[0]][\"assets\"][asset_name][\"raster:bands\"][0][\"histogram\"][\"max\"], \"min\":items[list(items.keys())[0]][\"assets\"][asset_name][\"raster:bands\"][0][\"histogram\"][\"min\"]}"
   ]
  },
  {
   "cell_type": "markdown",
   "id": "8b38ebba",
   "metadata": {},
   "source": [
    "Now, we will pass the item id, collection name, asset name, and the `rescaling factor` to the `Raster API` endpoint. We will do this twice, once for 2021-01 and again for 2021-05, so that we can visualize each event independently."
   ]
  },
  {
   "cell_type": "code",
   "execution_count": 30,
   "id": "27b31984-ac8e-473f-ba2d-eb309c9708c1",
   "metadata": {},
   "outputs": [
    {
     "data": {
      "text/plain": [
       "{'tilejson': '2.2.0',\n",
       " 'version': '1.0.0',\n",
       " 'scheme': 'xyz',\n",
       " 'tiles': ['https://dev.ghg.center/api/raster/collections/gra2pes-co2-monthgrid-v1/items/gra2pes-co2-monthgrid-v1-202101/tiles/WebMercatorQuad/{z}/{x}/{y}@1x?collection=gra2pes-co2-monthgrid-v1&item=gra2pes-co2-monthgrid-v1-202101&assets=co2&color_formula=gamma+r+1.05&colormap_name=spectral_r&rescale=0%2C150'],\n",
       " 'minzoom': 0,\n",
       " 'maxzoom': 24,\n",
       " 'bounds': [-137.3143, 18.173376, -58.58229999999702, 52.229376000001295],\n",
       " 'center': [-97.94829999999851, 35.20137600000065, 0]}"
      ]
     },
     "execution_count": 30,
     "metadata": {},
     "output_type": "execute_result"
    }
   ],
   "source": [
    "color_map = \"spectral_r\" # please refer to matplotlib library if you'd prefer choosing a different color ramp.\n",
    "# For more information on Colormaps in Matplotlib, please visit https://matplotlib.org/stable/users/explain/colors/colormaps.html\n",
    "\n",
    "# To change the year and month of the observed parameter, you can modify the \"items['YYYY-MM']\" statement\n",
    "# For example, you can change the current statement \"items['2003-12']\" to \"items['2016-10']\" \n",
    "_202101_tile = requests.get(\n",
    "    f\"{RASTER_API_URL}/collections/{items['2021-01']['collection']}/items/{items['2021-01']['id']}/tilejson.json?collection={items['2021-01']['collection']}&item={items['2021-01']['id']}\"\n",
    "\n",
    "    f\"&assets={asset_name}\"\n",
    "    f\"&color_formula=gamma+r+1.05&colormap_name={color_map}\"\n",
    "    f\"&rescale=0,150\", \n",
    ").json()\n",
    "_202101_tile"
   ]
  },
  {
   "cell_type": "code",
   "execution_count": 31,
   "id": "80f5933d",
   "metadata": {},
   "outputs": [
    {
     "data": {
      "text/plain": [
       "{'tilejson': '2.2.0',\n",
       " 'version': '1.0.0',\n",
       " 'scheme': 'xyz',\n",
       " 'tiles': ['https://dev.ghg.center/api/raster/collections/gra2pes-co2-monthgrid-v1/items/gra2pes-co2-monthgrid-v1-202105/tiles/WebMercatorQuad/{z}/{x}/{y}@1x?collection=gra2pes-co2-monthgrid-v1&item=gra2pes-co2-monthgrid-v1-202105&assets=co2&color_formula=gamma+r+1.05&colormap_name=spectral_r&rescale=0%2C150'],\n",
       " 'minzoom': 0,\n",
       " 'maxzoom': 24,\n",
       " 'bounds': [-137.3143, 18.173376, -58.58229999999702, 52.229376000001295],\n",
       " 'center': [-97.94829999999851, 35.20137600000065, 0]}"
      ]
     },
     "execution_count": 31,
     "metadata": {},
     "output_type": "execute_result"
    }
   ],
   "source": [
    "_202105_tile = requests.get(\n",
    "    f\"{RASTER_API_URL}/collections/{items['2021-05']['collection']}/items/{items['2021-05']['id']}/tilejson.json?collection={items['2021-05']['collection']}&item={items['2021-05']['id']}\"\n",
    "\n",
    "    f\"&assets={asset_name}\"\n",
    "    f\"&color_formula=gamma+r+1.05&colormap_name={color_map}\"\n",
    "    f\"&rescale=0,150\", \n",
    ").json()\n",
    "_202105_tile"
   ]
  },
  {
   "cell_type": "markdown",
   "id": "1c9874c7",
   "metadata": {},
   "source": [
    "## Visualizing Total Fossil Fuel CO₂ Emissions"
   ]
  },
  {
   "cell_type": "code",
   "execution_count": 32,
   "id": "6cf3c0f1-8d39-4cdd-96c7-96e6229c1584",
   "metadata": {},
   "outputs": [
    {
     "data": {
      "text/html": [
       "<div style=\"width:100%;\"><div style=\"position:relative;width:100%;height:0;padding-bottom:60%;\"><span style=\"color:#565656\">Make this Notebook Trusted to load map: File -> Trust Notebook</span><iframe srcdoc=\"&lt;!DOCTYPE html&gt;\n",
       "&lt;html&gt;\n",
       "&lt;head&gt;\n",
       "    \n",
       "    &lt;meta http-equiv=&quot;content-type&quot; content=&quot;text/html; charset=UTF-8&quot; /&gt;\n",
       "    \n",
       "        &lt;script&gt;\n",
       "            L_NO_TOUCH = false;\n",
       "            L_DISABLE_3D = false;\n",
       "        &lt;/script&gt;\n",
       "    \n",
       "    &lt;style&gt;html, body {width: 100%;height: 100%;margin: 0;padding: 0;}&lt;/style&gt;\n",
       "    &lt;style&gt;#map {position:absolute;top:0;bottom:0;right:0;left:0;}&lt;/style&gt;\n",
       "    &lt;script src=&quot;https://cdn.jsdelivr.net/npm/leaflet@1.9.3/dist/leaflet.js&quot;&gt;&lt;/script&gt;\n",
       "    &lt;script src=&quot;https://code.jquery.com/jquery-3.7.1.min.js&quot;&gt;&lt;/script&gt;\n",
       "    &lt;script src=&quot;https://cdn.jsdelivr.net/npm/bootstrap@5.2.2/dist/js/bootstrap.bundle.min.js&quot;&gt;&lt;/script&gt;\n",
       "    &lt;script src=&quot;https://cdnjs.cloudflare.com/ajax/libs/Leaflet.awesome-markers/2.0.2/leaflet.awesome-markers.js&quot;&gt;&lt;/script&gt;\n",
       "    &lt;link rel=&quot;stylesheet&quot; href=&quot;https://cdn.jsdelivr.net/npm/leaflet@1.9.3/dist/leaflet.css&quot;/&gt;\n",
       "    &lt;link rel=&quot;stylesheet&quot; href=&quot;https://cdn.jsdelivr.net/npm/bootstrap@5.2.2/dist/css/bootstrap.min.css&quot;/&gt;\n",
       "    &lt;link rel=&quot;stylesheet&quot; href=&quot;https://netdna.bootstrapcdn.com/bootstrap/3.0.0/css/bootstrap-glyphicons.css&quot;/&gt;\n",
       "    &lt;link rel=&quot;stylesheet&quot; href=&quot;https://cdn.jsdelivr.net/npm/@fortawesome/fontawesome-free@6.2.0/css/all.min.css&quot;/&gt;\n",
       "    &lt;link rel=&quot;stylesheet&quot; href=&quot;https://cdnjs.cloudflare.com/ajax/libs/Leaflet.awesome-markers/2.0.2/leaflet.awesome-markers.css&quot;/&gt;\n",
       "    &lt;link rel=&quot;stylesheet&quot; href=&quot;https://cdn.jsdelivr.net/gh/python-visualization/folium/folium/templates/leaflet.awesome.rotate.min.css&quot;/&gt;\n",
       "    \n",
       "            &lt;meta name=&quot;viewport&quot; content=&quot;width=device-width,\n",
       "                initial-scale=1.0, maximum-scale=1.0, user-scalable=no&quot; /&gt;\n",
       "            &lt;style&gt;\n",
       "                #map_edd0ff00f280162cb37a88438dfad200 {\n",
       "                    position: absolute;\n",
       "                    width: 50.0%;\n",
       "                    height: 100.0%;\n",
       "                    left: 0.0%;\n",
       "                    top: 0.0%;\n",
       "                }\n",
       "                .leaflet-container { font-size: 1rem; }\n",
       "            &lt;/style&gt;\n",
       "        \n",
       "    \n",
       "            &lt;meta name=&quot;viewport&quot; content=&quot;width=device-width,\n",
       "                initial-scale=1.0, maximum-scale=1.0, user-scalable=no&quot; /&gt;\n",
       "            &lt;style&gt;\n",
       "                #map_ddd6319ec882adf311b2309c43b9d2d5 {\n",
       "                    position: absolute;\n",
       "                    width: 50.0%;\n",
       "                    height: 100.0%;\n",
       "                    left: 50.0%;\n",
       "                    top: 0.0%;\n",
       "                }\n",
       "                .leaflet-container { font-size: 1rem; }\n",
       "            &lt;/style&gt;\n",
       "        \n",
       "    &lt;script src=&quot;https://cdn.jsdelivr.net/gh/jieter/Leaflet.Sync/L.Map.Sync.min.js&quot;&gt;&lt;/script&gt;\n",
       "&lt;/head&gt;\n",
       "&lt;body&gt;\n",
       "    \n",
       "    \n",
       "            &lt;div class=&quot;folium-map&quot; id=&quot;map_edd0ff00f280162cb37a88438dfad200&quot; &gt;&lt;/div&gt;\n",
       "        \n",
       "    \n",
       "            &lt;div class=&quot;folium-map&quot; id=&quot;map_ddd6319ec882adf311b2309c43b9d2d5&quot; &gt;&lt;/div&gt;\n",
       "        \n",
       "&lt;/body&gt;\n",
       "&lt;script&gt;\n",
       "    \n",
       "    \n",
       "            var map_edd0ff00f280162cb37a88438dfad200 = L.map(\n",
       "                &quot;map_edd0ff00f280162cb37a88438dfad200&quot;,\n",
       "                {\n",
       "                    center: [34.0, -118.0],\n",
       "                    crs: L.CRS.EPSG3857,\n",
       "                    zoom: 6,\n",
       "                    zoomControl: true,\n",
       "                    preferCanvas: false,\n",
       "                }\n",
       "            );\n",
       "\n",
       "            \n",
       "\n",
       "        \n",
       "    \n",
       "            var tile_layer_83789f115bdff9a1c771b85325da703c = L.tileLayer(\n",
       "                &quot;https://tile.openstreetmap.org/{z}/{x}/{y}.png&quot;,\n",
       "                {&quot;attribution&quot;: &quot;\\u0026copy; \\u003ca href=\\&quot;https://www.openstreetmap.org/copyright\\&quot;\\u003eOpenStreetMap\\u003c/a\\u003e contributors&quot;, &quot;detectRetina&quot;: false, &quot;maxNativeZoom&quot;: 19, &quot;maxZoom&quot;: 19, &quot;minZoom&quot;: 0, &quot;noWrap&quot;: false, &quot;opacity&quot;: 1, &quot;subdomains&quot;: &quot;abc&quot;, &quot;tms&quot;: false}\n",
       "            );\n",
       "        \n",
       "    \n",
       "            tile_layer_83789f115bdff9a1c771b85325da703c.addTo(map_edd0ff00f280162cb37a88438dfad200);\n",
       "        \n",
       "    \n",
       "            var tile_layer_d8c169ddc474a63922e903ed89d2e517 = L.tileLayer(\n",
       "                &quot;https://dev.ghg.center/api/raster/collections/gra2pes-co2-monthgrid-v1/items/gra2pes-co2-monthgrid-v1-202101/tiles/WebMercatorQuad/{z}/{x}/{y}@1x?collection=gra2pes-co2-monthgrid-v1\\u0026item=gra2pes-co2-monthgrid-v1-202101\\u0026assets=co2\\u0026color_formula=gamma+r+1.05\\u0026colormap_name=spectral_r\\u0026rescale=0%2C150&quot;,\n",
       "                {&quot;attribution&quot;: &quot;GHG&quot;, &quot;detectRetina&quot;: false, &quot;maxZoom&quot;: 18, &quot;minZoom&quot;: 0, &quot;noWrap&quot;: false, &quot;opacity&quot;: 0.8, &quot;subdomains&quot;: &quot;abc&quot;, &quot;tms&quot;: false}\n",
       "            );\n",
       "        \n",
       "    \n",
       "            tile_layer_d8c169ddc474a63922e903ed89d2e517.addTo(map_edd0ff00f280162cb37a88438dfad200);\n",
       "        \n",
       "    \n",
       "            var map_ddd6319ec882adf311b2309c43b9d2d5 = L.map(\n",
       "                &quot;map_ddd6319ec882adf311b2309c43b9d2d5&quot;,\n",
       "                {\n",
       "                    center: [34.0, -118.0],\n",
       "                    crs: L.CRS.EPSG3857,\n",
       "                    zoom: 6,\n",
       "                    zoomControl: true,\n",
       "                    preferCanvas: false,\n",
       "                }\n",
       "            );\n",
       "\n",
       "            \n",
       "\n",
       "        \n",
       "    \n",
       "            var tile_layer_1e14ca0dd8c2166f0d902100d5d29e6a = L.tileLayer(\n",
       "                &quot;https://tile.openstreetmap.org/{z}/{x}/{y}.png&quot;,\n",
       "                {&quot;attribution&quot;: &quot;\\u0026copy; \\u003ca href=\\&quot;https://www.openstreetmap.org/copyright\\&quot;\\u003eOpenStreetMap\\u003c/a\\u003e contributors&quot;, &quot;detectRetina&quot;: false, &quot;maxNativeZoom&quot;: 19, &quot;maxZoom&quot;: 19, &quot;minZoom&quot;: 0, &quot;noWrap&quot;: false, &quot;opacity&quot;: 1, &quot;subdomains&quot;: &quot;abc&quot;, &quot;tms&quot;: false}\n",
       "            );\n",
       "        \n",
       "    \n",
       "            tile_layer_1e14ca0dd8c2166f0d902100d5d29e6a.addTo(map_ddd6319ec882adf311b2309c43b9d2d5);\n",
       "        \n",
       "    \n",
       "            var tile_layer_2793f20a58a552418ec77f4c8722f5ef = L.tileLayer(\n",
       "                &quot;https://dev.ghg.center/api/raster/collections/gra2pes-co2-monthgrid-v1/items/gra2pes-co2-monthgrid-v1-202105/tiles/WebMercatorQuad/{z}/{x}/{y}@1x?collection=gra2pes-co2-monthgrid-v1\\u0026item=gra2pes-co2-monthgrid-v1-202105\\u0026assets=co2\\u0026color_formula=gamma+r+1.05\\u0026colormap_name=spectral_r\\u0026rescale=0%2C150&quot;,\n",
       "                {&quot;attribution&quot;: &quot;GHG&quot;, &quot;detectRetina&quot;: false, &quot;maxZoom&quot;: 18, &quot;minZoom&quot;: 0, &quot;noWrap&quot;: false, &quot;opacity&quot;: 0.8, &quot;subdomains&quot;: &quot;abc&quot;, &quot;tms&quot;: false}\n",
       "            );\n",
       "        \n",
       "    \n",
       "            tile_layer_2793f20a58a552418ec77f4c8722f5ef.addTo(map_ddd6319ec882adf311b2309c43b9d2d5);\n",
       "        \n",
       "    \n",
       "            map_edd0ff00f280162cb37a88438dfad200.sync(map_ddd6319ec882adf311b2309c43b9d2d5);\n",
       "            map_ddd6319ec882adf311b2309c43b9d2d5.sync(map_edd0ff00f280162cb37a88438dfad200);\n",
       "        \n",
       "&lt;/script&gt;\n",
       "&lt;/html&gt;\" style=\"position:absolute;width:100%;height:100%;left:0;top:0;border:none !important;\" allowfullscreen webkitallowfullscreen mozallowfullscreen></iframe></div></div>"
      ],
      "text/plain": [
       "<folium.plugins.dual_map.DualMap at 0x10bd6ec00>"
      ]
     },
     "execution_count": 32,
     "metadata": {},
     "output_type": "execute_result"
    }
   ],
   "source": [
    "map_ = folium.plugins.DualMap(location=(34, -118), zoom_start=6)\n",
    "\n",
    "\n",
    "# Define the first map layer with the CO2 Flux data for December 2022\n",
    "map_layer_202101 = TileLayer(\n",
    "    tiles=_202101_tile[\"tiles\"][0], # Path to retrieve the tile\n",
    "    attr=\"GHG\", # Set the attribution \n",
    "    name='2021-01 Total CO2 Fossil Fuel Emissions', # Title for the layer\n",
    "    overlay=True, # The layer can be overlaid on the map\n",
    "    opacity=0.8, # Adjust the transparency of the layer\n",
    ")\n",
    "# Add the first layer to the Dual Map \n",
    "map_layer_202101.add_to(map_.m1)\n",
    "\n",
    "map_layer_202105 = TileLayer(\n",
    "    tiles=_202105_tile[\"tiles\"][0], # Path to retrieve the tile\n",
    "    attr=\"GHG\", # Set the attribution \n",
    "    name='2021-05 Total CO2  Emissions', # Title for the layer\n",
    "    overlay=True, # The layer can be overlaid on the map\n",
    "    opacity=0.8, # Adjust the transparency of the layer\n",
    ")\n",
    "# Add the first layer to the Dual Map \n",
    "map_layer_2021.add_to(map_.m2)\n",
    "\n",
    "map_"
   ]
  },
  {
   "cell_type": "markdown",
   "id": "f3beb616-7e62-457b-9435-92a8f2d4ac60",
   "metadata": {},
   "source": [
    "## Summary\n",
    "\n",
    "In this notebook we have successfully explored, analyzed, and visualized the STAC collection for GRA2PES greenhouse gases Emissions, Version 1 dataset.\n",
    "\n",
    "1.  Install and import the necessary libraries\n",
    "2.  Fetch the collection from STAC collections using the appropriate endpoints\n",
    "3.  Count the number of existing granules within the collection\n",
    "4.  Map and compare the total CO₂ emissions for two distinctive months/years\n",
    "\n",
    "\n",
    "If you have any questions regarding this user notebook, please contact us using the [feedback form](https://docs.google.com/forms/d/e/1FAIpQLSeVWCrnca08Gt_qoWYjTo6gnj1BEGL4NCUC9VEiQnXA02gzVQ/viewform)."
   ]
  },
  {
   "cell_type": "code",
   "execution_count": null,
   "id": "5d0920e0-c050-4ea5-9e18-88b46ec61cc5",
   "metadata": {},
   "outputs": [],
   "source": []
  }
 ],
 "metadata": {
  "kernelspec": {
   "display_name": "Python 3 (ipykernel)",
   "language": "python",
   "name": "python3"
  },
  "language_info": {
   "codemirror_mode": {
    "name": "ipython",
    "version": 3
   },
   "file_extension": ".py",
   "mimetype": "text/x-python",
   "name": "python",
   "nbconvert_exporter": "python",
   "pygments_lexer": "ipython3",
   "version": "3.12.3"
  }
 },
 "nbformat": 4,
 "nbformat_minor": 5
}
