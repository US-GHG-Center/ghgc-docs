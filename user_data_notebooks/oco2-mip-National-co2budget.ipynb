{
 "cells": [
  {
   "cell_type": "raw",
   "id": "bca77cab-96b4-49b4-8ffb-26f45b8bbfb6",
   "metadata": {
    "tags": []
   },
   "source": [
    "---\n",
    "title: OCO-2 MIP National Top-Down CO2 Budgets\n",
    "description: Pilot National-total top-down carbon dioxide budgets of carbon dioxide emissions during 2015-2020, version 1.\n",
    "author: Brendan Byrne\n",
    "date: 21 March 2024\n",
    "---"
   ]
  },
  {
   "cell_type": "markdown",
   "id": "e27609b9",
   "metadata": {},
   "source": [
    "## Access this Notebook\n",
    "You can launch this notebook in the US GHG Center JupyterHub by clicking the link below. If you are a new user, you should first sign up for the hub by filling out this [**request form**](https://docs.google.com/forms/d/e/1FAIpQLSdai8otCdrVQzJgev8mjDhzKyCg7jcrB3UeTXNHoCiaMKrkaQ/viewform) and providing the required information. \n",
    "\n",
    "\n",
    "Access the [**OCO-2 MIP Top-down CO2 Budgets**](https://us-ghg-center.github.io/ghgc-docs/user_data_notebooks/oco2-mip-co2budget-yeargrid-v1_User_Notebook.html) notebook in the US GHG Center JupyterHub. "
   ]
  },
  {
   "cell_type": "markdown",
   "id": "4347ad6c",
   "metadata": {},
   "source": [
    "## Data Summary and Application\n",
    "- **Spatial coverage**: Global\n",
    "- **Spatial resolution**: 1° x 1°\n",
    "- **Temporal extent**: 2015 – 2020\n",
    "- **Temporal resolution**: Annual\n",
    "- **Unit**: Grams of carbon dioxide per square meter per year\n",
    "- **Utility**: Climate Research\n",
    "\n",
    "For more, visit the [OCO-2 MIP Top-down CO2 Budgets](https://earth.gov/ghgcenter/data-catalog/oco2-mip-co2budget-yeargrid-v1) data overview page.  "
   ]
  },
  {
   "cell_type": "markdown",
   "id": "c0f7e20f-9fe4-46f2-ab65-9caac663563d",
   "metadata": {
    "tags": []
   },
   "source": [
    "## Approach\n",
    "\n",
    "1. Read in National CO2 Budgets using Pandas\n",
    "2. Sub-select the data structure using Pandas\n",
    "3. Visualize the CO2 budgets for a country\n",
    "4. Investigate uncertainties and metrics for understanding the dataset\n",
    "\n",
    "## About the Data\n",
    "\n",
    "This tutorial guides a user to further explore data from the Carbon Observatory (OCO-2) modeling intercomparison project (MIP). It is designed for those with more understanding of the science and is therefore labeled as intermediate level.\n",
    "\n",
    "The code is used to estimate the annual net terrestrial carbon stock loss (ΔC<sub>loss</sub>) and net carbon exchange (NCE) for a given country using the “top-down” NCE outputs from the Carbon Observatory (OCO-2) modeling intercomparison project (MIP). Several standardized experiments are studied in this notebook based on the OCO-2 MIP dataset including flux estimates from in situ CO₂ measurements (IS), flux estimates from OCO-2 land CO₂ data (LNLG), combined in situ and OCO-2 land CO₂ data (LNLGIS), and combined in situ and OCO-2 land and ocean CO₂ data (LNLGOGIS). Estimates and uncertainties associated with fossil fuels, riverine fluxes, and wood and crop fluxes are also graphed along with the ΔC<sub>loss</sub> and NCE variables.\n",
    "\n",
    "For more information about this data collection, please visit the [OCO-2 MIP Top-Down CO2 Budgets](https://earth.gov/ghgcenter/data-catalog/oco2-mip-co2budget-yeargrid-v1) data overview page.\n",
    "\n",
    "For more information regarding this dataset, please visit the [U.S. Greenhouse Gas Center](https://earth.gov/ghgcenter).\n",
    "\n",
    "# Install the Required Libraries\n",
    "Required libraries are pre-installed on the GHG Center Hub. If you need to run this notebook elsewhere, please install them with this line in a code cell:\n",
    "\n",
    "\n",
    "%pip install requests folium rasterstats pystac_client pandas matplotlib --quiet\n",
    "\n",
    "\n",
    "## Import required modules\n",
    "First we will need to import the relevant python modules:"
   ]
  },
  {
   "cell_type": "code",
   "execution_count": 1,
   "id": "8ff420ae-1455-4a3b-8dfe-1da8abf16049",
   "metadata": {
    "tags": []
   },
   "outputs": [],
   "source": [
    "import pandas as pd # for manipulating csv dataset\n",
    "import numpy as np\n",
    "import matplotlib.pyplot as plt # make plots\n",
    "from scipy.stats import norm # We will use this for understanding significance"
   ]
  },
  {
   "cell_type": "markdown",
   "id": "fef62803-12d5-41d5-9073-ebe027717cbd",
   "metadata": {},
   "source": [
    "## Read the CO2 National budget dataset\n",
    "\n",
    "Now we will read in the csv dataset from https://ceos.org/gst/carbon-dioxide.html"
   ]
  },
  {
   "cell_type": "code",
   "execution_count": 2,
   "id": "10194dc3-274b-419c-96ab-b2bc51e6d19d",
   "metadata": {
    "tags": []
   },
   "outputs": [],
   "source": [
    "url ='https://ceos.org/gst/files/pilot_topdown_CO2_Budget_countries_v1.csv'\n",
    "df_all = pd.read_csv(url, skiprows=52)"
   ]
  },
  {
   "cell_type": "markdown",
   "id": "8c48eafe-c6a1-48b7-b44b-e598576709c7",
   "metadata": {},
   "source": [
    "## Sub-select a single top-down dataset (experiment)\n",
    "\n",
    "To simplify the analysis, let's subselect the results for a single experiment. The experiments are:\n",
    "- IS: estimates fluxes from in situ CO2 measurements\n",
    "- LNLG: estimates fluxes from OCO-2 land CO2 data\n",
    "- LNLGIS: combines in situ and OCO-2 land CO2 data\n",
    "- LNLGOGIS: combines in situ and OCO-2 land and ocean CO2 data\n",
    "\n",
    "We would like to use the experiment that uses the most high-quality CO2 data. There are some concerns about small residual biases in OCO-2 ocean data (Byrne et al., 2023), so let's use the LNLGIS experiment."
   ]
  },
  {
   "cell_type": "code",
   "execution_count": 3,
   "id": "7f380763-4b59-4f53-9993-803c37995a3b",
   "metadata": {
    "tags": []
   },
   "outputs": [
    {
     "data": {
      "text/html": [
       "<div>\n",
       "<style scoped>\n",
       "    .dataframe tbody tr th:only-of-type {\n",
       "        vertical-align: middle;\n",
       "    }\n",
       "\n",
       "    .dataframe tbody tr th {\n",
       "        vertical-align: top;\n",
       "    }\n",
       "\n",
       "    .dataframe thead th {\n",
       "        text-align: right;\n",
       "    }\n",
       "</style>\n",
       "<table border=\"1\" class=\"dataframe\">\n",
       "  <thead>\n",
       "    <tr style=\"text-align: right;\">\n",
       "      <th></th>\n",
       "      <th>Alpha 3 Code</th>\n",
       "      <th>Year</th>\n",
       "      <th>LNLGIS dC_loss (TgCO2)</th>\n",
       "      <th>LNLGIS dC_loss unc (TgCO2)</th>\n",
       "      <th>LNLGIS NBE (TgCO2)</th>\n",
       "      <th>LNLGIS NBE unc (TgCO2)</th>\n",
       "      <th>LNLGIS NCE (TgCO2)</th>\n",
       "      <th>LNLGIS NCE unc (TgCO2)</th>\n",
       "      <th>Rivers (TgCO2)</th>\n",
       "      <th>River unc (TgCO2)</th>\n",
       "      <th>Wood+Crop (TgCO2)</th>\n",
       "      <th>Wood+Crop unc (TgCO2)</th>\n",
       "      <th>FF (TgCO2)</th>\n",
       "      <th>FF unc (TgCO2)</th>\n",
       "      <th>Z-statistic</th>\n",
       "      <th>FUR LNLGIS</th>\n",
       "    </tr>\n",
       "  </thead>\n",
       "  <tbody>\n",
       "    <tr>\n",
       "      <th>0</th>\n",
       "      <td>AFG</td>\n",
       "      <td>2015</td>\n",
       "      <td>39.3407</td>\n",
       "      <td>153.746</td>\n",
       "      <td>40.9643</td>\n",
       "      <td>153.746</td>\n",
       "      <td>60.3537</td>\n",
       "      <td>153.744</td>\n",
       "      <td>-2.43286</td>\n",
       "      <td>1.69832</td>\n",
       "      <td>4.05648</td>\n",
       "      <td>1.21694</td>\n",
       "      <td>19.3894</td>\n",
       "      <td>0.797698</td>\n",
       "      <td>0.37</td>\n",
       "      <td>0.19</td>\n",
       "    </tr>\n",
       "    <tr>\n",
       "      <th>1</th>\n",
       "      <td>AFG</td>\n",
       "      <td>2016</td>\n",
       "      <td>50.6167</td>\n",
       "      <td>175.454</td>\n",
       "      <td>52.5114</td>\n",
       "      <td>175.454</td>\n",
       "      <td>73.0333</td>\n",
       "      <td>175.452</td>\n",
       "      <td>-2.16185</td>\n",
       "      <td>2.24033</td>\n",
       "      <td>4.05648</td>\n",
       "      <td>1.21694</td>\n",
       "      <td>20.5220</td>\n",
       "      <td>0.678080</td>\n",
       "      <td>0.31</td>\n",
       "      <td>0.19</td>\n",
       "    </tr>\n",
       "    <tr>\n",
       "      <th>2</th>\n",
       "      <td>AFG</td>\n",
       "      <td>2017</td>\n",
       "      <td>54.5096</td>\n",
       "      <td>179.794</td>\n",
       "      <td>56.4726</td>\n",
       "      <td>179.794</td>\n",
       "      <td>77.5355</td>\n",
       "      <td>179.793</td>\n",
       "      <td>-2.09349</td>\n",
       "      <td>2.37705</td>\n",
       "      <td>4.05648</td>\n",
       "      <td>1.21694</td>\n",
       "      <td>21.0629</td>\n",
       "      <td>0.695856</td>\n",
       "      <td>0.47</td>\n",
       "      <td>0.19</td>\n",
       "    </tr>\n",
       "    <tr>\n",
       "      <th>3</th>\n",
       "      <td>AFG</td>\n",
       "      <td>2018</td>\n",
       "      <td>116.4260</td>\n",
       "      <td>243.057</td>\n",
       "      <td>118.4610</td>\n",
       "      <td>243.057</td>\n",
       "      <td>143.9580</td>\n",
       "      <td>243.056</td>\n",
       "      <td>-2.02199</td>\n",
       "      <td>2.52005</td>\n",
       "      <td>4.05648</td>\n",
       "      <td>1.21694</td>\n",
       "      <td>25.4974</td>\n",
       "      <td>0.695856</td>\n",
       "      <td>0.39</td>\n",
       "      <td>0.19</td>\n",
       "    </tr>\n",
       "    <tr>\n",
       "      <th>4</th>\n",
       "      <td>AFG</td>\n",
       "      <td>2019</td>\n",
       "      <td>64.0162</td>\n",
       "      <td>181.516</td>\n",
       "      <td>66.0388</td>\n",
       "      <td>181.516</td>\n",
       "      <td>93.8974</td>\n",
       "      <td>181.514</td>\n",
       "      <td>-2.03383</td>\n",
       "      <td>2.49637</td>\n",
       "      <td>4.05648</td>\n",
       "      <td>1.21694</td>\n",
       "      <td>27.8585</td>\n",
       "      <td>0.797698</td>\n",
       "      <td>0.49</td>\n",
       "      <td>0.19</td>\n",
       "    </tr>\n",
       "  </tbody>\n",
       "</table>\n",
       "</div>"
      ],
      "text/plain": [
       "  Alpha 3 Code  Year  LNLGIS dC_loss (TgCO2)  LNLGIS dC_loss unc (TgCO2)  \\\n",
       "0          AFG  2015                 39.3407                     153.746   \n",
       "1          AFG  2016                 50.6167                     175.454   \n",
       "2          AFG  2017                 54.5096                     179.794   \n",
       "3          AFG  2018                116.4260                     243.057   \n",
       "4          AFG  2019                 64.0162                     181.516   \n",
       "\n",
       "   LNLGIS NBE (TgCO2)  LNLGIS NBE unc (TgCO2)  LNLGIS NCE (TgCO2)  \\\n",
       "0             40.9643                 153.746             60.3537   \n",
       "1             52.5114                 175.454             73.0333   \n",
       "2             56.4726                 179.794             77.5355   \n",
       "3            118.4610                 243.057            143.9580   \n",
       "4             66.0388                 181.516             93.8974   \n",
       "\n",
       "   LNLGIS NCE unc (TgCO2)  Rivers (TgCO2)  River unc (TgCO2)  \\\n",
       "0                 153.744        -2.43286            1.69832   \n",
       "1                 175.452        -2.16185            2.24033   \n",
       "2                 179.793        -2.09349            2.37705   \n",
       "3                 243.056        -2.02199            2.52005   \n",
       "4                 181.514        -2.03383            2.49637   \n",
       "\n",
       "   Wood+Crop (TgCO2)  Wood+Crop unc (TgCO2)  FF (TgCO2)  FF unc (TgCO2)  \\\n",
       "0            4.05648                1.21694     19.3894        0.797698   \n",
       "1            4.05648                1.21694     20.5220        0.678080   \n",
       "2            4.05648                1.21694     21.0629        0.695856   \n",
       "3            4.05648                1.21694     25.4974        0.695856   \n",
       "4            4.05648                1.21694     27.8585        0.797698   \n",
       "\n",
       "   Z-statistic  FUR LNLGIS  \n",
       "0         0.37        0.19  \n",
       "1         0.31        0.19  \n",
       "2         0.47        0.19  \n",
       "3         0.39        0.19  \n",
       "4         0.49        0.19  "
      ]
     },
     "execution_count": 3,
     "metadata": {},
     "output_type": "execute_result"
    }
   ],
   "source": [
    "# Choose one experiment from the list ['IS', 'LNLG', 'LNLGIS', 'LNLGOGIS']\n",
    "experiment = 'LNLGIS'\n",
    "\n",
    "# Subset of columns for a given experiment\n",
    "if experiment == 'IS':\n",
    "    df = df_all.drop(df_all.columns[[4,5,6,7,8,9,12,13,14,15,16,17,20,21,22,23,24,25,34,35,36]], axis=1)\n",
    "if experiment == 'LNLG':\n",
    "    df = df_all.drop(df_all.columns[[2,3,6,7,8,9,10,11,14,15,16,17,18,19,22,23,24,25,33,35,36]], axis=1)\n",
    "if experiment == 'LNLGIS':\n",
    "    df = df_all.drop(df_all.columns[[2,3,4,5,8,9,10,11,12,13,16,17,18,19,20,21,24,25,33,34,36]], axis=1)\n",
    "if experiment == 'LNLGOGIS':\n",
    "    df = df_all.drop(df_all.columns[[2,3,4,5,6,7,10,11,12,13,14,15,18,19,20,21,22,23,33,34,35]], axis=1)\n",
    "\n",
    "# We can now look at the colums of data\n",
    "df.head()"
   ]
  },
  {
   "cell_type": "markdown",
   "id": "06d13ea9-0239-4590-b032-71ee3f07b99f",
   "metadata": {},
   "source": [
    "## Sub-select a single country\n",
    "\n",
    "Let's further filter the dataset to look at a specific country. Choose a country by entering the alpha code in the country_name variable below"
   ]
  },
  {
   "cell_type": "code",
   "execution_count": 4,
   "id": "dc8b03d3-2ff7-43db-bf7d-0054c3a7f2a8",
   "metadata": {
    "tags": []
   },
   "outputs": [
    {
     "data": {
      "text/html": [
       "<div>\n",
       "<style scoped>\n",
       "    .dataframe tbody tr th:only-of-type {\n",
       "        vertical-align: middle;\n",
       "    }\n",
       "\n",
       "    .dataframe tbody tr th {\n",
       "        vertical-align: top;\n",
       "    }\n",
       "\n",
       "    .dataframe thead th {\n",
       "        text-align: right;\n",
       "    }\n",
       "</style>\n",
       "<table border=\"1\" class=\"dataframe\">\n",
       "  <thead>\n",
       "    <tr style=\"text-align: right;\">\n",
       "      <th></th>\n",
       "      <th>Alpha 3 Code</th>\n",
       "      <th>Year</th>\n",
       "      <th>LNLGIS dC_loss (TgCO2)</th>\n",
       "      <th>LNLGIS dC_loss unc (TgCO2)</th>\n",
       "      <th>LNLGIS NBE (TgCO2)</th>\n",
       "      <th>LNLGIS NBE unc (TgCO2)</th>\n",
       "      <th>LNLGIS NCE (TgCO2)</th>\n",
       "      <th>LNLGIS NCE unc (TgCO2)</th>\n",
       "      <th>Rivers (TgCO2)</th>\n",
       "      <th>River unc (TgCO2)</th>\n",
       "      <th>Wood+Crop (TgCO2)</th>\n",
       "      <th>Wood+Crop unc (TgCO2)</th>\n",
       "      <th>FF (TgCO2)</th>\n",
       "      <th>FF unc (TgCO2)</th>\n",
       "      <th>Z-statistic</th>\n",
       "      <th>FUR LNLGIS</th>\n",
       "    </tr>\n",
       "  </thead>\n",
       "  <tbody>\n",
       "    <tr>\n",
       "      <th>1232</th>\n",
       "      <td>USA</td>\n",
       "      <td>2015</td>\n",
       "      <td>-1031.83</td>\n",
       "      <td>721.213</td>\n",
       "      <td>-1346.46</td>\n",
       "      <td>721.213</td>\n",
       "      <td>4017.31</td>\n",
       "      <td>713.897</td>\n",
       "      <td>-165.430</td>\n",
       "      <td>71.7453</td>\n",
       "      <td>-149.196</td>\n",
       "      <td>-44.7589</td>\n",
       "      <td>5363.77</td>\n",
       "      <td>102.4670</td>\n",
       "      <td>-0.81</td>\n",
       "      <td>0.91</td>\n",
       "    </tr>\n",
       "    <tr>\n",
       "      <th>1233</th>\n",
       "      <td>USA</td>\n",
       "      <td>2016</td>\n",
       "      <td>-1419.92</td>\n",
       "      <td>399.738</td>\n",
       "      <td>-1743.80</td>\n",
       "      <td>399.738</td>\n",
       "      <td>3529.45</td>\n",
       "      <td>387.079</td>\n",
       "      <td>-174.684</td>\n",
       "      <td>53.2375</td>\n",
       "      <td>-149.196</td>\n",
       "      <td>-44.7589</td>\n",
       "      <td>5273.24</td>\n",
       "      <td>99.8012</td>\n",
       "      <td>0.04</td>\n",
       "      <td>0.91</td>\n",
       "    </tr>\n",
       "    <tr>\n",
       "      <th>1234</th>\n",
       "      <td>USA</td>\n",
       "      <td>2017</td>\n",
       "      <td>-1375.12</td>\n",
       "      <td>1034.010</td>\n",
       "      <td>-1696.63</td>\n",
       "      <td>1034.010</td>\n",
       "      <td>3515.14</td>\n",
       "      <td>1029.250</td>\n",
       "      <td>-172.308</td>\n",
       "      <td>57.9894</td>\n",
       "      <td>-149.196</td>\n",
       "      <td>-44.7589</td>\n",
       "      <td>5211.76</td>\n",
       "      <td>99.0981</td>\n",
       "      <td>0.67</td>\n",
       "      <td>0.91</td>\n",
       "    </tr>\n",
       "    <tr>\n",
       "      <th>1235</th>\n",
       "      <td>USA</td>\n",
       "      <td>2018</td>\n",
       "      <td>-1018.89</td>\n",
       "      <td>784.463</td>\n",
       "      <td>-1333.83</td>\n",
       "      <td>784.463</td>\n",
       "      <td>4036.65</td>\n",
       "      <td>778.179</td>\n",
       "      <td>-165.747</td>\n",
       "      <td>71.1117</td>\n",
       "      <td>-149.196</td>\n",
       "      <td>-44.7589</td>\n",
       "      <td>5370.48</td>\n",
       "      <td>99.0981</td>\n",
       "      <td>-0.20</td>\n",
       "      <td>0.91</td>\n",
       "    </tr>\n",
       "    <tr>\n",
       "      <th>1236</th>\n",
       "      <td>USA</td>\n",
       "      <td>2019</td>\n",
       "      <td>-1161.41</td>\n",
       "      <td>718.054</td>\n",
       "      <td>-1504.61</td>\n",
       "      <td>718.054</td>\n",
       "      <td>3728.95</td>\n",
       "      <td>710.705</td>\n",
       "      <td>-194.005</td>\n",
       "      <td>14.5948</td>\n",
       "      <td>-149.196</td>\n",
       "      <td>-44.7589</td>\n",
       "      <td>5233.56</td>\n",
       "      <td>102.4670</td>\n",
       "      <td>-0.38</td>\n",
       "      <td>0.91</td>\n",
       "    </tr>\n",
       "  </tbody>\n",
       "</table>\n",
       "</div>"
      ],
      "text/plain": [
       "     Alpha 3 Code  Year  LNLGIS dC_loss (TgCO2)  LNLGIS dC_loss unc (TgCO2)  \\\n",
       "1232          USA  2015                -1031.83                     721.213   \n",
       "1233          USA  2016                -1419.92                     399.738   \n",
       "1234          USA  2017                -1375.12                    1034.010   \n",
       "1235          USA  2018                -1018.89                     784.463   \n",
       "1236          USA  2019                -1161.41                     718.054   \n",
       "\n",
       "      LNLGIS NBE (TgCO2)  LNLGIS NBE unc (TgCO2)  LNLGIS NCE (TgCO2)  \\\n",
       "1232            -1346.46                 721.213             4017.31   \n",
       "1233            -1743.80                 399.738             3529.45   \n",
       "1234            -1696.63                1034.010             3515.14   \n",
       "1235            -1333.83                 784.463             4036.65   \n",
       "1236            -1504.61                 718.054             3728.95   \n",
       "\n",
       "      LNLGIS NCE unc (TgCO2)  Rivers (TgCO2)  River unc (TgCO2)  \\\n",
       "1232                 713.897        -165.430            71.7453   \n",
       "1233                 387.079        -174.684            53.2375   \n",
       "1234                1029.250        -172.308            57.9894   \n",
       "1235                 778.179        -165.747            71.1117   \n",
       "1236                 710.705        -194.005            14.5948   \n",
       "\n",
       "      Wood+Crop (TgCO2)  Wood+Crop unc (TgCO2)  FF (TgCO2)  FF unc (TgCO2)  \\\n",
       "1232           -149.196               -44.7589     5363.77        102.4670   \n",
       "1233           -149.196               -44.7589     5273.24         99.8012   \n",
       "1234           -149.196               -44.7589     5211.76         99.0981   \n",
       "1235           -149.196               -44.7589     5370.48         99.0981   \n",
       "1236           -149.196               -44.7589     5233.56        102.4670   \n",
       "\n",
       "      Z-statistic  FUR LNLGIS  \n",
       "1232        -0.81        0.91  \n",
       "1233         0.04        0.91  \n",
       "1234         0.67        0.91  \n",
       "1235        -0.20        0.91  \n",
       "1236        -0.38        0.91  "
      ]
     },
     "execution_count": 4,
     "metadata": {},
     "output_type": "execute_result"
    }
   ],
   "source": [
    "# Choose a country\n",
    "country_name = 'USA' \n",
    "\n",
    "# We can sub-select the data for the country\n",
    "country_data = df[df['Alpha 3 Code'] == country_name]\n",
    "\n",
    "# Now we can look at the data for a specific experiment and country\n",
    "country_data.head()"
   ]
  },
  {
   "cell_type": "markdown",
   "id": "e53b5116-e121-4a69-bdb7-d5ea42922810",
   "metadata": {},
   "source": [
    "#This dataset contains fluxes over a five year period, 2015-2020. \n",
    "\n",
    "Let's look at a plot of the annual net terrestrial carbon stock loss (ΔC<sub>loss</sub>) for each year."
   ]
  },
  {
   "cell_type": "code",
   "execution_count": 5,
   "id": "f7be864d-4d01-442f-b3cb-a1aefff616ae",
   "metadata": {
    "tags": []
   },
   "outputs": [
    {
     "data": {
      "text/plain": [
       "(-0.30000000000000004, 6.3)"
      ]
     },
     "execution_count": 5,
     "metadata": {},
     "output_type": "execute_result"
    },
    {
     "data": {
      "image/png": "[encoded data removed]",
      "text/plain": [
       "<Figure size 600x400 with 1 Axes>"
      ]
     },
     "metadata": {},
     "output_type": "display_data"
    }
   ],
   "source": [
    "# Make plot\n",
    "fig, ax1 = plt.subplots(1, 1, figsize=(6, 4))\n",
    "ax1.errorbar(country_data['Year'],country_data[experiment+' dC_loss (TgCO2)'],\n",
    "                    yerr=country_data[experiment+' dC_loss unc (TgCO2)'],label=experiment,capsize=10)\n",
    "ax1.legend(loc='upper right')\n",
    "ax1.set_ylabel('$\\Delta$C$_\\mathrm{loss}$ (TgCO$_2$ year$^{-1}$)')\n",
    "ax1.set_xlabel('Year')\n",
    "ax1.set_title('$\\Delta$C$_\\mathrm{loss}$ for '+country_name)\n",
    "ymin, ymax = ax1.get_ylim()\n",
    "max_abs_y = max(abs(ymin), abs(ymax))\n",
    "ax1.set_ylim([-max_abs_y, max_abs_y])\n",
    "xmin, xmax = ax1.get_xlim()\n",
    "ax1.plot([xmin,xmax],[0,0],'k',linewidth=0.5)\n",
    "ax1.set_xlim([xmin, xmax])"
   ]
  },
  {
   "cell_type": "markdown",
   "id": "1eb37df8-d8e9-4f77-bf12-d93aca798621",
   "metadata": {},
   "source": [
    "Next, we can look at the full carbon budget for a given year.\n",
    "\n",
    "The code below creates a plot similar to Fig 13 of Byrne et al. (2023). Each of the bars on the left side of the dashed vertical line (Fossil fuel emissions, lateral C transport by rivers, lateral C transport in crop and wood products, and the net terrestrial carbon stock loss combined to give the net carbon exchange (net surface-atmosphere CO2 flux) shown on the right."
   ]
  },
  {
   "cell_type": "code",
   "execution_count": 6,
   "id": "3f956003-05f7-4394-9764-56545ecc9ec9",
   "metadata": {
    "tags": []
   },
   "outputs": [
    {
     "name": "stdout",
     "output_type": "stream",
     "text": [
      "1238   -44.7589\n",
      "Name: Wood+Crop unc (TgCO2), dtype: float64\n"
     ]
    },
    {
     "data": {
      "text/plain": [
       "Text(0, 0.5, 'CO$_2$ Flux (TgCO$_2$ year$^{-1}$)')"
      ]
     },
     "execution_count": 6,
     "metadata": {},
     "output_type": "execute_result"
    },
    {
     "data": {
      "image/png": "[encoded data removed]",
      "text/plain": [
       "<Figure size 640x480 with 1 Axes>"
      ]
     },
     "metadata": {},
     "output_type": "display_data"
    }
   ],
   "source": [
    "# Pick a specifc year (or mean year)\n",
    "year='mean'\n",
    "\n",
    "# Make plot\n",
    "country_data_mean = country_data[country_data['Year'] == year]\n",
    "a=country_data_mean['Wood+Crop (TgCO2)']\n",
    "b=country_data_mean['Wood+Crop unc (TgCO2)']\n",
    "print(b)\n",
    "#\n",
    "plt.bar(1, country_data_mean['FF (TgCO2)'], yerr=country_data_mean['FF unc (TgCO2)'], label='FF', alpha=0.5)\n",
    "plt.bar(2, country_data_mean['Rivers (TgCO2)'], yerr=country_data_mean['River unc (TgCO2)'], label='Rivers', alpha=0.5)\n",
    "plt.bar(3, country_data_mean['Wood+Crop (TgCO2)'], yerr=abs(country_data_mean['Wood+Crop unc (TgCO2)']), label='WoodCrop', alpha=0.5)\n",
    "plt.bar(4, country_data_mean[experiment+' dC_loss (TgCO2)'], yerr=country_data_mean['LNLGIS dC_loss unc (TgCO2)'], label='dC', alpha=0.5)\n",
    "plt.bar(6, country_data_mean[experiment+' NCE (TgCO2)'], yerr=country_data_mean['LNLGIS NCE unc (TgCO2)'], label='NCE', alpha=0.5)\n",
    "ax = plt.gca()\n",
    "ymin, ymax = ax.get_ylim()\n",
    "plt.plot([5,5],[ymin,ymax],'k:')\n",
    "xmin, xmax = ax.get_xlim()\n",
    "plt.plot([xmin,xmax],[0,0],'k',linewidth=0.5)\n",
    "plt.xlim([xmin,xmax])\n",
    "plt.ylim([ymin,ymax])\n",
    "#\n",
    "plt.xticks([1,2,3,4,6], ['Fossil\\nFuels','Rivers','Wood+\\nCrops','$\\mathrm{\\Delta C _{loss}}$','NCE'])\n",
    "plt.title(country_name+' '+year)\n",
    "plt.ylabel('CO$_2$ Flux (TgCO$_2$ year$^{-1}$)')"
   ]
  },
  {
   "cell_type": "markdown",
   "id": "7b450618-b0dc-43b4-adda-d8393baf10f7",
   "metadata": {},
   "source": [
    "Uncertainty is an important consideration when analyzing the flux estimates provided by Byrne et al. (2023).\n",
    "\n",
    "Each flux estimate is provided with an error estimate representing the standard deviation, and assuming the errors are well prepresented by a normal distribution. This probability dirtribution provided by this uncertainty can be visualized below. We can further quantify the "
   ]
  },
  {
   "cell_type": "code",
   "execution_count": 7,
   "id": "d6cb1421-a44c-4e54-9bb1-fda73bc3ff27",
   "metadata": {},
   "outputs": [
    {
     "data": {
      "text/plain": [
       "Text(0.5, 0, 'dC_loss (TgCO$_2$ year$^{-1}$)')"
      ]
     },
     "execution_count": 7,
     "metadata": {},
     "output_type": "execute_result"
    },
    {
     "data": {
      "image/png": "[encoded data removed]",
      "text/plain": [
       "<Figure size 640x480 with 1 Axes>"
      ]
     },
     "metadata": {},
     "output_type": "display_data"
    }
   ],
   "source": [
    "\n",
    "# Select NCE, NBE or dC_loss\n",
    "quantity = 'dC_loss'\n",
    "\n",
    "# Value for comparison\n",
    "comparison_value = 1000 # TgCO2/year\n",
    "\n",
    "\n",
    "MIP_mean = country_data_mean[experiment+' '+quantity+' (TgCO2)'].item()\n",
    "MIP_std = country_data_mean[experiment+' '+quantity+' unc (TgCO2)'].item()\n",
    "\n",
    "# Perform t-test\n",
    "t_value = abs(MIP_mean - comparison_value)/(MIP_std / np.sqrt(11))\n",
    "crtical_value = 2.23 # use p=0.05 significance\n",
    "if t_value > crtical_value:\n",
    "    ttest = 'statistically different'\n",
    "if t_value < crtical_value:\n",
    "    ttest = 'not statistically\\ndifferent'\n",
    "\n",
    "# Make plot\n",
    "xbounds = abs(MIP_mean)+MIP_std*4\n",
    "if abs(crtical_value) > xbounds:\n",
    "    xbounds = abs(crtical_value)\n",
    "x_axis = np.arange(-1.*xbounds, xbounds, 1) \n",
    "plt.plot(x_axis, norm.pdf(x_axis, MIP_mean, MIP_std)) \n",
    "ax = plt.gca()\n",
    "ymin, ymax = ax.get_ylim()\n",
    "xmin, xmax = ax.get_xlim()\n",
    "plt.plot([0,0],[ymin,ymax*1.2],'k:',linewidth=0.5)\n",
    "plt.plot([xmin,xmax],[0,0],'k:',linewidth=0.5)\n",
    "plt.plot([comparison_value,comparison_value],[ymin,ymax*1.2],'k')\n",
    "plt.text(comparison_value+(xmax-xmin)*0.01,ymax*0.96,'value = '+str(comparison_value),ha='left',va='top')\n",
    "plt.text(comparison_value+(xmax-xmin)*0.01,ymax*0.9,ttest,ha='left',va='top')\n",
    "plt.ylim([ymin,ymax*1.2])\n",
    "plt.xlim([xmin,xmax])\n",
    "plt.plot(MIP_mean,ymax*1.03,'ko')\n",
    "plt.plot([MIP_mean-MIP_std,\n",
    "         MIP_mean+MIP_std],\n",
    "         [ymax*1.03,ymax*1.03],'k')\n",
    "plt.plot([MIP_mean-MIP_std,\n",
    "         MIP_mean-MIP_std],\n",
    "         [ymax*1.005,ymax*1.055],'k')\n",
    "plt.plot([MIP_mean+MIP_std,\n",
    "         MIP_mean+MIP_std],\n",
    "         [ymax*1.005,ymax*1.055],'k')\n",
    "plt.text(MIP_mean,ymax*1.115,\n",
    "         str(round(MIP_mean))+' $\\pm$ '+\n",
    "         str(round(MIP_std))+' TgCO$_2$',ha='center')\n",
    "plt.title(country_name+' '+year+' '+quantity+'')\n",
    "plt.yticks([])\n",
    "plt.ylabel('Probability')\n",
    "plt.xlabel(quantity+' (TgCO$_2$ year$^{-1}$)')"
   ]
  },
  {
   "cell_type": "markdown",
   "id": "42a7785d-8645-439f-8a90-fba0cc7eeefb",
   "metadata": {},
   "source": [
    "Finally, we will examine two metrics that are useful for understanding the confidence in the top-down results:\n",
    "\n",
    "- Z-statistic: metric of agreement in NCE estimates across the experiments that assimilate different CO2 datasets. Experiments are considered significantly different if the magnitude exceeds 1.96\n",
    "\n",
    "- Fractional Uncertainty Reduction (FUR): metric of how strongly the assimilated CO2 data on reduce NCE uncertainties. Values range from 0 to 1, with 0 meaning zero error reduction and 1 meaning complete error reduction\n",
    "\n",
    "Here we will add a plot of the Z-statistic for each year, and add the FUR value for the country."
   ]
  },
  {
   "cell_type": "code",
   "execution_count": 8,
   "id": "65fb149a-a252-4018-876c-3245f1197a03",
   "metadata": {
    "tags": []
   },
   "outputs": [
    {
     "data": {
      "text/plain": [
       "Text(-0.18000000000000005, 2.6, 'Fractional error reduction: 0.91')"
      ]
     },
     "execution_count": 8,
     "metadata": {},
     "output_type": "execute_result"
    },
    {
     "data": {
      "image/png": "[encoded data removed]",
      "text/plain": [
       "<Figure size 600x400 with 1 Axes>"
      ]
     },
     "metadata": {},
     "output_type": "display_data"
    }
   ],
   "source": [
    "# Make plot\n",
    "fig, ax1 = plt.subplots(1, 1, figsize=(6, 4))\n",
    "ax1.plot(country_data['Year'],country_data['Z-statistic'],label=experiment)\n",
    "ax1.legend(loc='upper right')\n",
    "ax1.set_ylabel('Z-statistic')\n",
    "ax1.set_xlabel('Year')\n",
    "ax1.set_title(country_name)\n",
    "ymin, ymax = ax1.get_ylim()\n",
    "max_abs_y = max(abs(ymin), abs(ymax))\n",
    "ax1.set_ylim([-3, 3])\n",
    "xmin, xmax = ax1.get_xlim()\n",
    "ax1.plot([xmin,xmax],[0,0],'k',linewidth=0.5)\n",
    "ax1.plot([xmin,xmax],[-1.96,-1.96],'k--',linewidth=0.5)\n",
    "ax1.plot([xmin,xmax],[1.96,1.96],'k--',linewidth=0.5)\n",
    "ax1.set_xlim([xmin, xmax])\n",
    "ax1.text(xmin+0.12,2.6,'Fractional error reduction: '+str(country_data['FUR '+experiment].iloc[1]))"
   ]
  }
 ],
 "metadata": {
  "kernelspec": {
   "display_name": "ams-workshop",
   "language": "python",
   "name": "python3"
  },
  "language_info": {
   "codemirror_mode": {
    "name": "ipython",
    "version": 3
   },
   "file_extension": ".py",
   "mimetype": "text/x-python",
   "name": "python",
   "nbconvert_exporter": "python",
   "pygments_lexer": "ipython3",
   "version": "3.9.18"
  }
 },
 "nbformat": 4,
 "nbformat_minor": 5
}
